{
 "cells": [
  {
   "cell_type": "markdown",
   "id": "1a3aad3c",
   "metadata": {},
   "source": [
    "#  **Uncovering the DNA of F1 Car Performance with PCA**"
   ]
  },
  {
   "cell_type": "markdown",
   "id": "ce80f2b1",
   "metadata": {},
   "source": [
    "## 🚀 Why This Task Matters\n",
    "\n",
    "Formula 1 is **ultra-competitive**. Every **millisecond** counts and can mean the difference between **victory and defeat**. Each F1 constructor—like **Red Bull**, **Ferrari**, or **Mercedes**—designs their cars with different priorities:\n",
    "\n",
    "* 🌀 **Aerodynamics** for superior cornering\n",
    "* ⚡ **Horsepower** for raw straight-line speed\n",
    "* ⚖️ **Balanced designs** that try to optimize both\n",
    "\n",
    "But here's the problem...\n",
    "\n",
    "## 🧩 The Challenge\n",
    "\n",
    "F1 cars have **many technical specifications**:\n",
    "\n",
    "> Horsepower, engine displacement, weight, downforce, acceleration, top speed, fuel economy, R\\&D cost...\n",
    "\n",
    "This is **high-dimensional data**—and it's hard to interpret all at once. You **can’t simply look at 10+ features** and immediately understand which cars perform similarly or what traits define different performance types.\n",
    "\n",
    "---"
   ]
  },
  {
   "cell_type": "markdown",
   "id": "5b548607",
   "metadata": {},
   "source": [
    "## 🎯 Objective\n",
    "\n",
    "✅ **Implement PCA from scratch** (no `sklearn`, no prebuilt PCA libraries)\n",
    "✅ **Reduce dimensionality** while preserving the essential patterns\n",
    "✅ **Identify performance archetypes** (e.g., cars that prioritize power vs. those that focus on handling)\n",
    "\n",
    "---\n",
    "\n",
    "## 💡 Why It Matters to the Team\n",
    "\n",
    "Your PCA analysis will help the F1 engineering team:\n",
    "\n",
    "* 🔍 Understand which design strategies are most effective\n",
    "* 🆚 See how different cars compare across seasons or teams\n",
    "* 🎯 Decide what areas to focus on in next year’s car development\n",
    "\n",
    "Ready to dive into the numbers and uncover the **DNA of performance**? Let’s go.\n",
    "\n",
    "---"
   ]
  },
  {
   "cell_type": "markdown",
   "id": "91221e78",
   "metadata": {},
   "source": [
    "### `Imports`"
   ]
  },
  {
   "cell_type": "code",
   "execution_count": 1,
   "id": "4f3a6148",
   "metadata": {},
   "outputs": [],
   "source": [
    "import numpy as np\n",
    "import pandas as pd\n",
    "import matplotlib.pyplot as plt\n",
    "import seaborn as sns\n",
    "import os"
   ]
  },
  {
   "cell_type": "markdown",
   "id": "f77e7da2",
   "metadata": {},
   "source": [
    "### `load data`"
   ]
  },
  {
   "cell_type": "code",
   "execution_count": 2,
   "id": "37da923d",
   "metadata": {},
   "outputs": [
    {
     "data": {
      "text/html": [
       "<div>\n",
       "<style scoped>\n",
       "    .dataframe tbody tr th:only-of-type {\n",
       "        vertical-align: middle;\n",
       "    }\n",
       "\n",
       "    .dataframe tbody tr th {\n",
       "        vertical-align: top;\n",
       "    }\n",
       "\n",
       "    .dataframe thead th {\n",
       "        text-align: right;\n",
       "    }\n",
       "</style>\n",
       "<table border=\"1\" class=\"dataframe\">\n",
       "  <thead>\n",
       "    <tr style=\"text-align: right;\">\n",
       "      <th></th>\n",
       "      <th>car_name</th>\n",
       "      <th>reviews_count</th>\n",
       "      <th>fuel_type</th>\n",
       "      <th>engine_displacement</th>\n",
       "      <th>no_cylinder</th>\n",
       "      <th>seating_capacity</th>\n",
       "      <th>transmission_type</th>\n",
       "      <th>fuel_tank_capacity</th>\n",
       "      <th>body_type</th>\n",
       "      <th>rating</th>\n",
       "      <th>starting_price</th>\n",
       "      <th>ending_price</th>\n",
       "      <th>max_torque_nm</th>\n",
       "      <th>max_torque_rpm</th>\n",
       "      <th>max_power_bhp</th>\n",
       "      <th>max_power_rp</th>\n",
       "    </tr>\n",
       "  </thead>\n",
       "  <tbody>\n",
       "    <tr>\n",
       "      <th>0</th>\n",
       "      <td>Maruti Alto K10</td>\n",
       "      <td>51</td>\n",
       "      <td>Petrol</td>\n",
       "      <td>998</td>\n",
       "      <td>3</td>\n",
       "      <td>5.0</td>\n",
       "      <td>Automatic</td>\n",
       "      <td>27.0</td>\n",
       "      <td>Hatchback</td>\n",
       "      <td>4.5</td>\n",
       "      <td>399000</td>\n",
       "      <td>583000</td>\n",
       "      <td>89.0</td>\n",
       "      <td>3500</td>\n",
       "      <td>65.71</td>\n",
       "      <td>5500</td>\n",
       "    </tr>\n",
       "    <tr>\n",
       "      <th>1</th>\n",
       "      <td>Maruti Brezza</td>\n",
       "      <td>86</td>\n",
       "      <td>Petrol</td>\n",
       "      <td>1462</td>\n",
       "      <td>4</td>\n",
       "      <td>5.0</td>\n",
       "      <td>Automatic</td>\n",
       "      <td>48.0</td>\n",
       "      <td>SUV</td>\n",
       "      <td>4.5</td>\n",
       "      <td>799000</td>\n",
       "      <td>1396000</td>\n",
       "      <td>136.8</td>\n",
       "      <td>4400</td>\n",
       "      <td>101.65</td>\n",
       "      <td>6000</td>\n",
       "    </tr>\n",
       "    <tr>\n",
       "      <th>2</th>\n",
       "      <td>Mahindra Thar</td>\n",
       "      <td>242</td>\n",
       "      <td>Diesel</td>\n",
       "      <td>2184</td>\n",
       "      <td>4</td>\n",
       "      <td>4.0</td>\n",
       "      <td>Automatic</td>\n",
       "      <td>57.0</td>\n",
       "      <td>SUV</td>\n",
       "      <td>4.5</td>\n",
       "      <td>1353000</td>\n",
       "      <td>1603000</td>\n",
       "      <td>300.0</td>\n",
       "      <td>2800</td>\n",
       "      <td>130.00</td>\n",
       "      <td>3750</td>\n",
       "    </tr>\n",
       "    <tr>\n",
       "      <th>3</th>\n",
       "      <td>Mahindra XUV700</td>\n",
       "      <td>313</td>\n",
       "      <td>Diesel</td>\n",
       "      <td>2198</td>\n",
       "      <td>4</td>\n",
       "      <td>7.0</td>\n",
       "      <td>Automatic</td>\n",
       "      <td>60.0</td>\n",
       "      <td>SUV</td>\n",
       "      <td>4.5</td>\n",
       "      <td>1318000</td>\n",
       "      <td>2458000</td>\n",
       "      <td>450.0</td>\n",
       "      <td>2800</td>\n",
       "      <td>182.38</td>\n",
       "      <td>3500</td>\n",
       "    </tr>\n",
       "    <tr>\n",
       "      <th>4</th>\n",
       "      <td>Mahindra Scorpio-N</td>\n",
       "      <td>107</td>\n",
       "      <td>Diesel</td>\n",
       "      <td>2198</td>\n",
       "      <td>4</td>\n",
       "      <td>7.0</td>\n",
       "      <td>Automatic</td>\n",
       "      <td>57.0</td>\n",
       "      <td>SUV</td>\n",
       "      <td>4.5</td>\n",
       "      <td>1199000</td>\n",
       "      <td>2390000</td>\n",
       "      <td>400.0</td>\n",
       "      <td>2750</td>\n",
       "      <td>172.45</td>\n",
       "      <td>3500</td>\n",
       "    </tr>\n",
       "    <tr>\n",
       "      <th>5</th>\n",
       "      <td>Toyota Fortuner</td>\n",
       "      <td>99</td>\n",
       "      <td>Diesel</td>\n",
       "      <td>2755</td>\n",
       "      <td>4</td>\n",
       "      <td>7.0</td>\n",
       "      <td>Automatic</td>\n",
       "      <td>80.0</td>\n",
       "      <td>SUV</td>\n",
       "      <td>4.5</td>\n",
       "      <td>3240000</td>\n",
       "      <td>4957000</td>\n",
       "      <td>500.0</td>\n",
       "      <td>2800</td>\n",
       "      <td>201.15</td>\n",
       "      <td>3400</td>\n",
       "    </tr>\n",
       "    <tr>\n",
       "      <th>6</th>\n",
       "      <td>Hyundai Creta</td>\n",
       "      <td>731</td>\n",
       "      <td>Diesel</td>\n",
       "      <td>1493</td>\n",
       "      <td>4</td>\n",
       "      <td>5.0</td>\n",
       "      <td>Automatic</td>\n",
       "      <td>50.0</td>\n",
       "      <td>SUV</td>\n",
       "      <td>4.5</td>\n",
       "      <td>1044000</td>\n",
       "      <td>1818000</td>\n",
       "      <td>250.0</td>\n",
       "      <td>2750</td>\n",
       "      <td>113.45</td>\n",
       "      <td>4000</td>\n",
       "    </tr>\n",
       "    <tr>\n",
       "      <th>7</th>\n",
       "      <td>Tata Punch</td>\n",
       "      <td>381</td>\n",
       "      <td>Petrol</td>\n",
       "      <td>1199</td>\n",
       "      <td>3</td>\n",
       "      <td>5.0</td>\n",
       "      <td>Automatic</td>\n",
       "      <td>37.0</td>\n",
       "      <td>SUV</td>\n",
       "      <td>4.5</td>\n",
       "      <td>593000</td>\n",
       "      <td>949000</td>\n",
       "      <td>113.0</td>\n",
       "      <td>3400</td>\n",
       "      <td>84.48</td>\n",
       "      <td>6000</td>\n",
       "    </tr>\n",
       "    <tr>\n",
       "      <th>8</th>\n",
       "      <td>Mahindra Bolero</td>\n",
       "      <td>107</td>\n",
       "      <td>Diesel</td>\n",
       "      <td>1498</td>\n",
       "      <td>3</td>\n",
       "      <td>7.0</td>\n",
       "      <td>Manual</td>\n",
       "      <td>60.0</td>\n",
       "      <td>SUV</td>\n",
       "      <td>4.5</td>\n",
       "      <td>933000</td>\n",
       "      <td>1026000</td>\n",
       "      <td>210.0</td>\n",
       "      <td>2200</td>\n",
       "      <td>74.96</td>\n",
       "      <td>3600</td>\n",
       "    </tr>\n",
       "    <tr>\n",
       "      <th>9</th>\n",
       "      <td>Maruti Swift</td>\n",
       "      <td>205</td>\n",
       "      <td>Petrol</td>\n",
       "      <td>1197</td>\n",
       "      <td>4</td>\n",
       "      <td>5.0</td>\n",
       "      <td>Automatic</td>\n",
       "      <td>37.0</td>\n",
       "      <td>Hatchback</td>\n",
       "      <td>4.0</td>\n",
       "      <td>592000</td>\n",
       "      <td>885000</td>\n",
       "      <td>113.0</td>\n",
       "      <td>4400</td>\n",
       "      <td>88.50</td>\n",
       "      <td>6000</td>\n",
       "    </tr>\n",
       "  </tbody>\n",
       "</table>\n",
       "</div>"
      ],
      "text/plain": [
       "             car_name  reviews_count fuel_type  engine_displacement  \\\n",
       "0     Maruti Alto K10             51    Petrol                  998   \n",
       "1       Maruti Brezza             86    Petrol                 1462   \n",
       "2       Mahindra Thar            242    Diesel                 2184   \n",
       "3     Mahindra XUV700            313    Diesel                 2198   \n",
       "4  Mahindra Scorpio-N            107    Diesel                 2198   \n",
       "5     Toyota Fortuner             99    Diesel                 2755   \n",
       "6       Hyundai Creta            731    Diesel                 1493   \n",
       "7          Tata Punch            381    Petrol                 1199   \n",
       "8     Mahindra Bolero            107    Diesel                 1498   \n",
       "9        Maruti Swift            205    Petrol                 1197   \n",
       "\n",
       "   no_cylinder  seating_capacity transmission_type  fuel_tank_capacity  \\\n",
       "0            3               5.0         Automatic                27.0   \n",
       "1            4               5.0         Automatic                48.0   \n",
       "2            4               4.0         Automatic                57.0   \n",
       "3            4               7.0         Automatic                60.0   \n",
       "4            4               7.0         Automatic                57.0   \n",
       "5            4               7.0         Automatic                80.0   \n",
       "6            4               5.0         Automatic                50.0   \n",
       "7            3               5.0         Automatic                37.0   \n",
       "8            3               7.0            Manual                60.0   \n",
       "9            4               5.0         Automatic                37.0   \n",
       "\n",
       "   body_type  rating  starting_price  ending_price  max_torque_nm  \\\n",
       "0  Hatchback     4.5          399000        583000           89.0   \n",
       "1        SUV     4.5          799000       1396000          136.8   \n",
       "2        SUV     4.5         1353000       1603000          300.0   \n",
       "3        SUV     4.5         1318000       2458000          450.0   \n",
       "4        SUV     4.5         1199000       2390000          400.0   \n",
       "5        SUV     4.5         3240000       4957000          500.0   \n",
       "6        SUV     4.5         1044000       1818000          250.0   \n",
       "7        SUV     4.5          593000        949000          113.0   \n",
       "8        SUV     4.5          933000       1026000          210.0   \n",
       "9  Hatchback     4.0          592000        885000          113.0   \n",
       "\n",
       "   max_torque_rpm  max_power_bhp  max_power_rp  \n",
       "0            3500          65.71          5500  \n",
       "1            4400         101.65          6000  \n",
       "2            2800         130.00          3750  \n",
       "3            2800         182.38          3500  \n",
       "4            2750         172.45          3500  \n",
       "5            2800         201.15          3400  \n",
       "6            2750         113.45          4000  \n",
       "7            3400          84.48          6000  \n",
       "8            2200          74.96          3600  \n",
       "9            4400          88.50          6000  "
      ]
     },
     "execution_count": 2,
     "metadata": {},
     "output_type": "execute_result"
    }
   ],
   "source": [
    "df = pd.read_csv(os.path.join(os.getcwd(), \"dataset\", \"CARS_1.csv\"))\n",
    "df.head(10)"
   ]
  },
  {
   "cell_type": "markdown",
   "id": "19db48b9",
   "metadata": {},
   "source": [
    "### `quick EDA`"
   ]
  },
  {
   "cell_type": "code",
   "execution_count": 3,
   "id": "8169fdd7",
   "metadata": {},
   "outputs": [
    {
     "data": {
      "text/plain": [
       "(203, 16)"
      ]
     },
     "execution_count": 3,
     "metadata": {},
     "output_type": "execute_result"
    }
   ],
   "source": [
    "df.shape"
   ]
  },
  {
   "cell_type": "code",
   "execution_count": 4,
   "id": "da8af82a",
   "metadata": {},
   "outputs": [
    {
     "data": {
      "text/plain": [
       "Index(['car_name', 'reviews_count', 'fuel_type', 'engine_displacement',\n",
       "       'no_cylinder', 'seating_capacity', 'transmission_type',\n",
       "       'fuel_tank_capacity', 'body_type', 'rating', 'starting_price',\n",
       "       'ending_price', 'max_torque_nm', 'max_torque_rpm', 'max_power_bhp',\n",
       "       'max_power_rp'],\n",
       "      dtype='object')"
      ]
     },
     "execution_count": 4,
     "metadata": {},
     "output_type": "execute_result"
    }
   ],
   "source": [
    "df.columns"
   ]
  },
  {
   "cell_type": "code",
   "execution_count": 5,
   "id": "61ecd60a",
   "metadata": {},
   "outputs": [
    {
     "name": "stdout",
     "output_type": "stream",
     "text": [
      "<class 'pandas.core.frame.DataFrame'>\n",
      "RangeIndex: 203 entries, 0 to 202\n",
      "Data columns (total 16 columns):\n",
      " #   Column               Non-Null Count  Dtype  \n",
      "---  ------               --------------  -----  \n",
      " 0   car_name             203 non-null    object \n",
      " 1   reviews_count        203 non-null    int64  \n",
      " 2   fuel_type            203 non-null    object \n",
      " 3   engine_displacement  203 non-null    int64  \n",
      " 4   no_cylinder          203 non-null    int64  \n",
      " 5   seating_capacity     202 non-null    float64\n",
      " 6   transmission_type    203 non-null    object \n",
      " 7   fuel_tank_capacity   203 non-null    float64\n",
      " 8   body_type            203 non-null    object \n",
      " 9   rating               203 non-null    float64\n",
      " 10  starting_price       203 non-null    int64  \n",
      " 11  ending_price         203 non-null    int64  \n",
      " 12  max_torque_nm        203 non-null    float64\n",
      " 13  max_torque_rpm       203 non-null    int64  \n",
      " 14  max_power_bhp        203 non-null    float64\n",
      " 15  max_power_rp         203 non-null    int64  \n",
      "dtypes: float64(5), int64(7), object(4)\n",
      "memory usage: 25.5+ KB\n"
     ]
    }
   ],
   "source": [
    "df.info()"
   ]
  },
  {
   "cell_type": "code",
   "execution_count": 6,
   "id": "ec501efd",
   "metadata": {},
   "outputs": [
    {
     "data": {
      "text/plain": [
       "array(['Petrol', 'Diesel', 'CNG', 'Electric'], dtype=object)"
      ]
     },
     "execution_count": 6,
     "metadata": {},
     "output_type": "execute_result"
    }
   ],
   "source": [
    "df['fuel_type'].unique()\n"
   ]
  },
  {
   "cell_type": "code",
   "execution_count": 7,
   "id": "c68cd903",
   "metadata": {},
   "outputs": [
    {
     "data": {
      "text/plain": [
       "array(['Hatchback', 'SUV', 'MUV', 'Sedan', 'Hybrid', 'Minivan',\n",
       "       'Pickup Truck', 'Coupe', 'Convertible', 'Luxury', 'Wagon'],\n",
       "      dtype=object)"
      ]
     },
     "execution_count": 7,
     "metadata": {},
     "output_type": "execute_result"
    }
   ],
   "source": [
    "df['body_type'].unique()"
   ]
  },
  {
   "cell_type": "markdown",
   "id": "2f289933",
   "metadata": {},
   "source": [
    "---"
   ]
  },
  {
   "cell_type": "markdown",
   "id": "5622c6fd",
   "metadata": {},
   "source": [
    "### `prepare data`"
   ]
  },
  {
   "cell_type": "code",
   "execution_count": 8,
   "id": "db58a75c",
   "metadata": {},
   "outputs": [],
   "source": [
    "X = df.drop(columns=['body_type'])\n",
    "y = df['body_type']\n",
    "X_numeric = X.select_dtypes(include=[np.number])"
   ]
  },
  {
   "cell_type": "code",
   "execution_count": 9,
   "id": "00fbe543",
   "metadata": {},
   "outputs": [
    {
     "data": {
      "text/html": [
       "<div>\n",
       "<style scoped>\n",
       "    .dataframe tbody tr th:only-of-type {\n",
       "        vertical-align: middle;\n",
       "    }\n",
       "\n",
       "    .dataframe tbody tr th {\n",
       "        vertical-align: top;\n",
       "    }\n",
       "\n",
       "    .dataframe thead th {\n",
       "        text-align: right;\n",
       "    }\n",
       "</style>\n",
       "<table border=\"1\" class=\"dataframe\">\n",
       "  <thead>\n",
       "    <tr style=\"text-align: right;\">\n",
       "      <th></th>\n",
       "      <th>reviews_count</th>\n",
       "      <th>engine_displacement</th>\n",
       "      <th>no_cylinder</th>\n",
       "      <th>seating_capacity</th>\n",
       "      <th>fuel_tank_capacity</th>\n",
       "      <th>rating</th>\n",
       "      <th>starting_price</th>\n",
       "      <th>ending_price</th>\n",
       "      <th>max_torque_nm</th>\n",
       "      <th>max_torque_rpm</th>\n",
       "      <th>max_power_bhp</th>\n",
       "      <th>max_power_rp</th>\n",
       "    </tr>\n",
       "  </thead>\n",
       "  <tbody>\n",
       "    <tr>\n",
       "      <th>0</th>\n",
       "      <td>51</td>\n",
       "      <td>998</td>\n",
       "      <td>3</td>\n",
       "      <td>5.0</td>\n",
       "      <td>27.0</td>\n",
       "      <td>4.5</td>\n",
       "      <td>399000</td>\n",
       "      <td>583000</td>\n",
       "      <td>89.0</td>\n",
       "      <td>3500</td>\n",
       "      <td>65.71</td>\n",
       "      <td>5500</td>\n",
       "    </tr>\n",
       "    <tr>\n",
       "      <th>1</th>\n",
       "      <td>86</td>\n",
       "      <td>1462</td>\n",
       "      <td>4</td>\n",
       "      <td>5.0</td>\n",
       "      <td>48.0</td>\n",
       "      <td>4.5</td>\n",
       "      <td>799000</td>\n",
       "      <td>1396000</td>\n",
       "      <td>136.8</td>\n",
       "      <td>4400</td>\n",
       "      <td>101.65</td>\n",
       "      <td>6000</td>\n",
       "    </tr>\n",
       "    <tr>\n",
       "      <th>2</th>\n",
       "      <td>242</td>\n",
       "      <td>2184</td>\n",
       "      <td>4</td>\n",
       "      <td>4.0</td>\n",
       "      <td>57.0</td>\n",
       "      <td>4.5</td>\n",
       "      <td>1353000</td>\n",
       "      <td>1603000</td>\n",
       "      <td>300.0</td>\n",
       "      <td>2800</td>\n",
       "      <td>130.00</td>\n",
       "      <td>3750</td>\n",
       "    </tr>\n",
       "    <tr>\n",
       "      <th>3</th>\n",
       "      <td>313</td>\n",
       "      <td>2198</td>\n",
       "      <td>4</td>\n",
       "      <td>7.0</td>\n",
       "      <td>60.0</td>\n",
       "      <td>4.5</td>\n",
       "      <td>1318000</td>\n",
       "      <td>2458000</td>\n",
       "      <td>450.0</td>\n",
       "      <td>2800</td>\n",
       "      <td>182.38</td>\n",
       "      <td>3500</td>\n",
       "    </tr>\n",
       "    <tr>\n",
       "      <th>4</th>\n",
       "      <td>107</td>\n",
       "      <td>2198</td>\n",
       "      <td>4</td>\n",
       "      <td>7.0</td>\n",
       "      <td>57.0</td>\n",
       "      <td>4.5</td>\n",
       "      <td>1199000</td>\n",
       "      <td>2390000</td>\n",
       "      <td>400.0</td>\n",
       "      <td>2750</td>\n",
       "      <td>172.45</td>\n",
       "      <td>3500</td>\n",
       "    </tr>\n",
       "    <tr>\n",
       "      <th>5</th>\n",
       "      <td>99</td>\n",
       "      <td>2755</td>\n",
       "      <td>4</td>\n",
       "      <td>7.0</td>\n",
       "      <td>80.0</td>\n",
       "      <td>4.5</td>\n",
       "      <td>3240000</td>\n",
       "      <td>4957000</td>\n",
       "      <td>500.0</td>\n",
       "      <td>2800</td>\n",
       "      <td>201.15</td>\n",
       "      <td>3400</td>\n",
       "    </tr>\n",
       "    <tr>\n",
       "      <th>6</th>\n",
       "      <td>731</td>\n",
       "      <td>1493</td>\n",
       "      <td>4</td>\n",
       "      <td>5.0</td>\n",
       "      <td>50.0</td>\n",
       "      <td>4.5</td>\n",
       "      <td>1044000</td>\n",
       "      <td>1818000</td>\n",
       "      <td>250.0</td>\n",
       "      <td>2750</td>\n",
       "      <td>113.45</td>\n",
       "      <td>4000</td>\n",
       "    </tr>\n",
       "    <tr>\n",
       "      <th>7</th>\n",
       "      <td>381</td>\n",
       "      <td>1199</td>\n",
       "      <td>3</td>\n",
       "      <td>5.0</td>\n",
       "      <td>37.0</td>\n",
       "      <td>4.5</td>\n",
       "      <td>593000</td>\n",
       "      <td>949000</td>\n",
       "      <td>113.0</td>\n",
       "      <td>3400</td>\n",
       "      <td>84.48</td>\n",
       "      <td>6000</td>\n",
       "    </tr>\n",
       "    <tr>\n",
       "      <th>8</th>\n",
       "      <td>107</td>\n",
       "      <td>1498</td>\n",
       "      <td>3</td>\n",
       "      <td>7.0</td>\n",
       "      <td>60.0</td>\n",
       "      <td>4.5</td>\n",
       "      <td>933000</td>\n",
       "      <td>1026000</td>\n",
       "      <td>210.0</td>\n",
       "      <td>2200</td>\n",
       "      <td>74.96</td>\n",
       "      <td>3600</td>\n",
       "    </tr>\n",
       "    <tr>\n",
       "      <th>9</th>\n",
       "      <td>205</td>\n",
       "      <td>1197</td>\n",
       "      <td>4</td>\n",
       "      <td>5.0</td>\n",
       "      <td>37.0</td>\n",
       "      <td>4.0</td>\n",
       "      <td>592000</td>\n",
       "      <td>885000</td>\n",
       "      <td>113.0</td>\n",
       "      <td>4400</td>\n",
       "      <td>88.50</td>\n",
       "      <td>6000</td>\n",
       "    </tr>\n",
       "  </tbody>\n",
       "</table>\n",
       "</div>"
      ],
      "text/plain": [
       "   reviews_count  engine_displacement  no_cylinder  seating_capacity  \\\n",
       "0             51                  998            3               5.0   \n",
       "1             86                 1462            4               5.0   \n",
       "2            242                 2184            4               4.0   \n",
       "3            313                 2198            4               7.0   \n",
       "4            107                 2198            4               7.0   \n",
       "5             99                 2755            4               7.0   \n",
       "6            731                 1493            4               5.0   \n",
       "7            381                 1199            3               5.0   \n",
       "8            107                 1498            3               7.0   \n",
       "9            205                 1197            4               5.0   \n",
       "\n",
       "   fuel_tank_capacity  rating  starting_price  ending_price  max_torque_nm  \\\n",
       "0                27.0     4.5          399000        583000           89.0   \n",
       "1                48.0     4.5          799000       1396000          136.8   \n",
       "2                57.0     4.5         1353000       1603000          300.0   \n",
       "3                60.0     4.5         1318000       2458000          450.0   \n",
       "4                57.0     4.5         1199000       2390000          400.0   \n",
       "5                80.0     4.5         3240000       4957000          500.0   \n",
       "6                50.0     4.5         1044000       1818000          250.0   \n",
       "7                37.0     4.5          593000        949000          113.0   \n",
       "8                60.0     4.5          933000       1026000          210.0   \n",
       "9                37.0     4.0          592000        885000          113.0   \n",
       "\n",
       "   max_torque_rpm  max_power_bhp  max_power_rp  \n",
       "0            3500          65.71          5500  \n",
       "1            4400         101.65          6000  \n",
       "2            2800         130.00          3750  \n",
       "3            2800         182.38          3500  \n",
       "4            2750         172.45          3500  \n",
       "5            2800         201.15          3400  \n",
       "6            2750         113.45          4000  \n",
       "7            3400          84.48          6000  \n",
       "8            2200          74.96          3600  \n",
       "9            4400          88.50          6000  "
      ]
     },
     "execution_count": 9,
     "metadata": {},
     "output_type": "execute_result"
    }
   ],
   "source": [
    "X_numeric.head(10)"
   ]
  },
  {
   "cell_type": "code",
   "execution_count": 10,
   "id": "c9a402a3",
   "metadata": {},
   "outputs": [],
   "source": [
    "# drop unrelevant to preformance columns\n",
    "X_numeric.drop(columns=[\"seating_capacity\", \"reviews_count\"], inplace=True)"
   ]
  },
  {
   "cell_type": "code",
   "execution_count": 11,
   "id": "34982879",
   "metadata": {},
   "outputs": [],
   "source": [
    "# Create average_price column\n",
    "X_numeric['average_price'] = (X_numeric['starting_price'] + X_numeric['ending_price']) / 2\n",
    "\n",
    "# Drop the original price columns\n",
    "X_numeric.drop(['starting_price', 'ending_price'], axis=1, inplace=True)"
   ]
  },
  {
   "cell_type": "code",
   "execution_count": 12,
   "id": "eaaace70",
   "metadata": {},
   "outputs": [
    {
     "data": {
      "text/html": [
       "<div>\n",
       "<style scoped>\n",
       "    .dataframe tbody tr th:only-of-type {\n",
       "        vertical-align: middle;\n",
       "    }\n",
       "\n",
       "    .dataframe tbody tr th {\n",
       "        vertical-align: top;\n",
       "    }\n",
       "\n",
       "    .dataframe thead th {\n",
       "        text-align: right;\n",
       "    }\n",
       "</style>\n",
       "<table border=\"1\" class=\"dataframe\">\n",
       "  <thead>\n",
       "    <tr style=\"text-align: right;\">\n",
       "      <th></th>\n",
       "      <th>engine_displacement</th>\n",
       "      <th>no_cylinder</th>\n",
       "      <th>fuel_tank_capacity</th>\n",
       "      <th>rating</th>\n",
       "      <th>max_torque_nm</th>\n",
       "      <th>max_torque_rpm</th>\n",
       "      <th>max_power_bhp</th>\n",
       "      <th>max_power_rp</th>\n",
       "      <th>average_price</th>\n",
       "    </tr>\n",
       "  </thead>\n",
       "  <tbody>\n",
       "    <tr>\n",
       "      <th>0</th>\n",
       "      <td>998</td>\n",
       "      <td>3</td>\n",
       "      <td>27.0</td>\n",
       "      <td>4.5</td>\n",
       "      <td>89.0</td>\n",
       "      <td>3500</td>\n",
       "      <td>65.71</td>\n",
       "      <td>5500</td>\n",
       "      <td>491000.0</td>\n",
       "    </tr>\n",
       "    <tr>\n",
       "      <th>1</th>\n",
       "      <td>1462</td>\n",
       "      <td>4</td>\n",
       "      <td>48.0</td>\n",
       "      <td>4.5</td>\n",
       "      <td>136.8</td>\n",
       "      <td>4400</td>\n",
       "      <td>101.65</td>\n",
       "      <td>6000</td>\n",
       "      <td>1097500.0</td>\n",
       "    </tr>\n",
       "    <tr>\n",
       "      <th>2</th>\n",
       "      <td>2184</td>\n",
       "      <td>4</td>\n",
       "      <td>57.0</td>\n",
       "      <td>4.5</td>\n",
       "      <td>300.0</td>\n",
       "      <td>2800</td>\n",
       "      <td>130.00</td>\n",
       "      <td>3750</td>\n",
       "      <td>1478000.0</td>\n",
       "    </tr>\n",
       "    <tr>\n",
       "      <th>3</th>\n",
       "      <td>2198</td>\n",
       "      <td>4</td>\n",
       "      <td>60.0</td>\n",
       "      <td>4.5</td>\n",
       "      <td>450.0</td>\n",
       "      <td>2800</td>\n",
       "      <td>182.38</td>\n",
       "      <td>3500</td>\n",
       "      <td>1888000.0</td>\n",
       "    </tr>\n",
       "    <tr>\n",
       "      <th>4</th>\n",
       "      <td>2198</td>\n",
       "      <td>4</td>\n",
       "      <td>57.0</td>\n",
       "      <td>4.5</td>\n",
       "      <td>400.0</td>\n",
       "      <td>2750</td>\n",
       "      <td>172.45</td>\n",
       "      <td>3500</td>\n",
       "      <td>1794500.0</td>\n",
       "    </tr>\n",
       "    <tr>\n",
       "      <th>5</th>\n",
       "      <td>2755</td>\n",
       "      <td>4</td>\n",
       "      <td>80.0</td>\n",
       "      <td>4.5</td>\n",
       "      <td>500.0</td>\n",
       "      <td>2800</td>\n",
       "      <td>201.15</td>\n",
       "      <td>3400</td>\n",
       "      <td>4098500.0</td>\n",
       "    </tr>\n",
       "    <tr>\n",
       "      <th>6</th>\n",
       "      <td>1493</td>\n",
       "      <td>4</td>\n",
       "      <td>50.0</td>\n",
       "      <td>4.5</td>\n",
       "      <td>250.0</td>\n",
       "      <td>2750</td>\n",
       "      <td>113.45</td>\n",
       "      <td>4000</td>\n",
       "      <td>1431000.0</td>\n",
       "    </tr>\n",
       "    <tr>\n",
       "      <th>7</th>\n",
       "      <td>1199</td>\n",
       "      <td>3</td>\n",
       "      <td>37.0</td>\n",
       "      <td>4.5</td>\n",
       "      <td>113.0</td>\n",
       "      <td>3400</td>\n",
       "      <td>84.48</td>\n",
       "      <td>6000</td>\n",
       "      <td>771000.0</td>\n",
       "    </tr>\n",
       "    <tr>\n",
       "      <th>8</th>\n",
       "      <td>1498</td>\n",
       "      <td>3</td>\n",
       "      <td>60.0</td>\n",
       "      <td>4.5</td>\n",
       "      <td>210.0</td>\n",
       "      <td>2200</td>\n",
       "      <td>74.96</td>\n",
       "      <td>3600</td>\n",
       "      <td>979500.0</td>\n",
       "    </tr>\n",
       "    <tr>\n",
       "      <th>9</th>\n",
       "      <td>1197</td>\n",
       "      <td>4</td>\n",
       "      <td>37.0</td>\n",
       "      <td>4.0</td>\n",
       "      <td>113.0</td>\n",
       "      <td>4400</td>\n",
       "      <td>88.50</td>\n",
       "      <td>6000</td>\n",
       "      <td>738500.0</td>\n",
       "    </tr>\n",
       "  </tbody>\n",
       "</table>\n",
       "</div>"
      ],
      "text/plain": [
       "   engine_displacement  no_cylinder  fuel_tank_capacity  rating  \\\n",
       "0                  998            3                27.0     4.5   \n",
       "1                 1462            4                48.0     4.5   \n",
       "2                 2184            4                57.0     4.5   \n",
       "3                 2198            4                60.0     4.5   \n",
       "4                 2198            4                57.0     4.5   \n",
       "5                 2755            4                80.0     4.5   \n",
       "6                 1493            4                50.0     4.5   \n",
       "7                 1199            3                37.0     4.5   \n",
       "8                 1498            3                60.0     4.5   \n",
       "9                 1197            4                37.0     4.0   \n",
       "\n",
       "   max_torque_nm  max_torque_rpm  max_power_bhp  max_power_rp  average_price  \n",
       "0           89.0            3500          65.71          5500       491000.0  \n",
       "1          136.8            4400         101.65          6000      1097500.0  \n",
       "2          300.0            2800         130.00          3750      1478000.0  \n",
       "3          450.0            2800         182.38          3500      1888000.0  \n",
       "4          400.0            2750         172.45          3500      1794500.0  \n",
       "5          500.0            2800         201.15          3400      4098500.0  \n",
       "6          250.0            2750         113.45          4000      1431000.0  \n",
       "7          113.0            3400          84.48          6000       771000.0  \n",
       "8          210.0            2200          74.96          3600       979500.0  \n",
       "9          113.0            4400          88.50          6000       738500.0  "
      ]
     },
     "execution_count": 12,
     "metadata": {},
     "output_type": "execute_result"
    }
   ],
   "source": [
    "X_numeric.head(10)"
   ]
  },
  {
   "cell_type": "code",
   "execution_count": 13,
   "id": "1d237975",
   "metadata": {},
   "outputs": [
    {
     "data": {
      "text/plain": [
       "(203, 9)"
      ]
     },
     "execution_count": 13,
     "metadata": {},
     "output_type": "execute_result"
    }
   ],
   "source": [
    "X_numeric.shape"
   ]
  },
  {
   "cell_type": "code",
   "execution_count": 14,
   "id": "7851ba3d",
   "metadata": {},
   "outputs": [
    {
     "data": {
      "text/plain": [
       "engine_displacement    0\n",
       "no_cylinder            0\n",
       "fuel_tank_capacity     0\n",
       "rating                 0\n",
       "max_torque_nm          0\n",
       "max_torque_rpm         0\n",
       "max_power_bhp          0\n",
       "max_power_rp           0\n",
       "average_price          0\n",
       "dtype: int64"
      ]
     },
     "execution_count": 14,
     "metadata": {},
     "output_type": "execute_result"
    }
   ],
   "source": [
    "# check for missing values\n",
    "X_numeric.isna().sum()"
   ]
  },
  {
   "cell_type": "code",
   "execution_count": 15,
   "id": "f0355b30",
   "metadata": {},
   "outputs": [],
   "source": [
    "# convert to numpy array\n",
    "X_np = X_numeric.to_numpy()"
   ]
  },
  {
   "cell_type": "code",
   "execution_count": 16,
   "id": "f3aedba7",
   "metadata": {},
   "outputs": [],
   "source": [
    "# standardization, as PCA is sensitive to feature scales\n",
    "X_std = (X_np - X_np.mean(axis=0)) / X_np.std(axis=0)    "
   ]
  },
  {
   "cell_type": "code",
   "execution_count": 17,
   "id": "de80fb40",
   "metadata": {},
   "outputs": [
    {
     "data": {
      "text/plain": [
       "(203, 9)"
      ]
     },
     "execution_count": 17,
     "metadata": {},
     "output_type": "execute_result"
    }
   ],
   "source": [
    "X_std.shape"
   ]
  },
  {
   "cell_type": "code",
   "execution_count": 18,
   "id": "8ee3ebca",
   "metadata": {},
   "outputs": [],
   "source": [
    "# Covariance Matrix\n",
    "cov_matrix = np.cov(X_std.T)"
   ]
  },
  {
   "cell_type": "code",
   "execution_count": 19,
   "id": "9fd5a0d2",
   "metadata": {},
   "outputs": [],
   "source": [
    "# Eigen Decomposition\n",
    "eig_vals, eig_vecs = np.linalg.eig(cov_matrix)"
   ]
  },
  {
   "cell_type": "code",
   "execution_count": 20,
   "id": "511d8382",
   "metadata": {},
   "outputs": [],
   "source": [
    "# Sort Eigenvalues & Eigenvectors\n",
    "sorted_indices = np.argsort(eig_vals)[::-1]\n",
    "eig_vals_sorted = eig_vals[sorted_indices]\n",
    "eig_vecs_sorted = eig_vecs[:, sorted_indices]"
   ]
  },
  {
   "cell_type": "code",
   "execution_count": 21,
   "id": "0a15690a",
   "metadata": {},
   "outputs": [],
   "source": [
    "W = eig_vecs_sorted[:, :2]     # Projection matrix: 9 x 2 (first 2 principal components)\n",
    "X_pca = X_std @ W            "
   ]
  },
  {
   "cell_type": "code",
   "execution_count": 22,
   "id": "710e1655",
   "metadata": {},
   "outputs": [
    {
     "data": {
      "text/plain": [
       "(203, 2)"
      ]
     },
     "execution_count": 22,
     "metadata": {},
     "output_type": "execute_result"
    }
   ],
   "source": [
    "X_pca.shape"
   ]
  },
  {
   "cell_type": "code",
   "execution_count": 23,
   "id": "6d159c79",
   "metadata": {},
   "outputs": [],
   "source": [
    "car_classes = df.loc[X_numeric.index, 'body_type'].values"
   ]
  },
  {
   "cell_type": "code",
   "execution_count": null,
   "id": "41437a2e",
   "metadata": {},
   "outputs": [
    {
     "data": {
      "image/png": "[encoded data removed]",
      "text/plain": [
       "<Figure size 1000x600 with 1 Axes>"
      ]
     },
     "metadata": {},
     "output_type": "display_data"
    }
   ],
   "source": [
    "plt.figure(figsize=(10, 6))\n",
    "for label in np.unique(car_classes):\n",
    "    mask = car_classes == label\n",
    "    plt.scatter(X_pca[mask, 0], X_pca[mask, 1], label=label)\n",
    "\n",
    "plt.xlabel('Principal Component 1')\n",
    "plt.ylabel('Principal Component 2')\n",
    "plt.title('PCA of Cars 2022 Dataset')\n",
    "plt.legend()\n",
    "plt.grid(True)\n",
    "plt.tight_layout()\n",
    "plt.show()"
   ]
  },
  {
   "cell_type": "code",
   "execution_count": 25,
   "id": "4b2bb4b8",
   "metadata": {},
   "outputs": [
    {
     "name": "stdout",
     "output_type": "stream",
     "text": [
      "Explained Variance (Top 2 PCs): [0.47693334 0.20967795]\n"
     ]
    }
   ],
   "source": [
    "explained_var_ratio = eig_vals_sorted / np.sum(eig_vals_sorted)\n",
    "print(\"Explained Variance (Top 2 PCs):\", explained_var_ratio[:2])"
   ]
  },
  {
   "cell_type": "code",
   "execution_count": 26,
   "id": "a7510c4d",
   "metadata": {},
   "outputs": [
    {
     "data": {
      "image/png": "[encoded data removed]",
      "text/plain": [
       "<Figure size 640x480 with 1 Axes>"
      ]
     },
     "metadata": {},
     "output_type": "display_data"
    }
   ],
   "source": [
    "plt.plot(np.arange(1, len(eig_vals_sorted)+1), explained_var_ratio, marker='o')\n",
    "plt.title('Scree Plot')\n",
    "plt.xlabel('Principal Component')\n",
    "plt.ylabel('Variance Explained')\n",
    "plt.grid(True)\n",
    "plt.show()"
   ]
  },
  {
   "cell_type": "markdown",
   "id": "4afff199",
   "metadata": {},
   "source": [
    "### 🎯 Explained Variance (Top 2 Principal Components)\n",
    "\n",
    "- **PC1** explains approximately **47.7%** of the total variance.\n",
    "- **PC2** explains approximately **20.9%** of the total variance.\n",
    "\n",
    "✅ **Total Variance Retained by Top 2 PCs**:\n",
    "\\[\n",
    "47.7\\% + 20.9\\% = **68.6\\%**\n",
    "\\]\n",
    "\n",
    "This means that our **2D PCA projection retains about 68.6% of the original information** from the 9-dimensional feature space. This level of variance retention is **quite good for visualization and interpretation**, allowing us to explore key performance patterns across cars with minimal loss of information.\n"
   ]
  },
  {
   "cell_type": "markdown",
   "id": "398537b7",
   "metadata": {},
   "source": [
    "---"
   ]
  },
  {
   "cell_type": "markdown",
   "id": "749a3ca3",
   "metadata": {},
   "source": [
    "## `Bonus`"
   ]
  },
  {
   "cell_type": "code",
   "execution_count": 27,
   "id": "fd5b0a81",
   "metadata": {},
   "outputs": [],
   "source": [
    "# 1. Transpose the matrix\n",
    "def transpose(matrix):\n",
    "    return [[row[i] for row in matrix] for i in range(len(matrix[0]))]"
   ]
  },
  {
   "cell_type": "code",
   "execution_count": 28,
   "id": "88e9c028",
   "metadata": {},
   "outputs": [],
   "source": [
    "# 2. Matrix Multiplication (Dot Product)\n",
    "def matmul(A, B):\n",
    "    result = [[0] * len(B[0]) for _ in range(len(A))]\n",
    "    for i in range(len(A)):\n",
    "        for j in range(len(B[0])):\n",
    "            for k in range(len(B)):\n",
    "                result[i][j] += A[i][k] * B[k][j]\n",
    "    return result"
   ]
  },
  {
   "cell_type": "code",
   "execution_count": 29,
   "id": "136511d1",
   "metadata": {},
   "outputs": [],
   "source": [
    "# 3. Standardize the Data (Z-score normalization)\n",
    "def standardize(matrix):\n",
    "    transposed = transpose(matrix)\n",
    "    standardized = []\n",
    "\n",
    "    for col in transposed:\n",
    "        mean = sum(col) / len(col)\n",
    "        std = (sum((x - mean) ** 2 for x in col) / len(col)) ** 0.5\n",
    "        if std == 0: std = 1e-8  # avoid division by zero\n",
    "        standardized.append([(x - mean) / std for x in col])\n",
    "\n",
    "    return transpose(standardized)"
   ]
  },
  {
   "cell_type": "code",
   "execution_count": 30,
   "id": "a906aa02",
   "metadata": {},
   "outputs": [],
   "source": [
    "# 4. Covariance Matrix\n",
    "def covariance_matrix(X):\n",
    "    n = len(X)\n",
    "    XT = transpose(X)\n",
    "    cov = matmul(XT, X)\n",
    "    return [[val / (n - 1) for val in row] for row in cov]"
   ]
  },
  {
   "cell_type": "code",
   "execution_count": 31,
   "id": "e039cbb5",
   "metadata": {},
   "outputs": [],
   "source": [
    "# 5. Eigen Decomposition\n",
    "def eigen_decompose(cov_matrix):\n",
    "    cov_np = np.array(cov_matrix)\n",
    "    eig_vals, eig_vecs = np.linalg.eig(cov_np)\n",
    "    return eig_vals, eig_vecs"
   ]
  },
  {
   "cell_type": "code",
   "execution_count": 32,
   "id": "52559a53",
   "metadata": {},
   "outputs": [],
   "source": [
    "# project data onto the first two principal components\n",
    "def project_data(X, eig_vecs, n_components=2):\n",
    "    eig_vecs_T = transpose(eig_vecs)   #  (n_components x features)\n",
    "    return matmul(X, eig_vecs_T)     "
   ]
  },
  {
   "cell_type": "markdown",
   "id": "5aa6fd53",
   "metadata": {},
   "source": [
    "### **Benchmarking Execution Time**"
   ]
  },
  {
   "cell_type": "code",
   "execution_count": 33,
   "id": "4d25c99a",
   "metadata": {},
   "outputs": [],
   "source": [
    "import time\n",
    "\n",
    "def time_it(func):\n",
    "    start = time.time()\n",
    "    result = func()\n",
    "    end = time.time()\n",
    "    print(f\"Time: {end - start:.4f} seconds\")\n",
    "    return result"
   ]
  },
  {
   "cell_type": "markdown",
   "id": "17e35c91",
   "metadata": {},
   "source": [
    "### **Full Pipeline**"
   ]
  },
  {
   "cell_type": "code",
   "execution_count": 34,
   "id": "e8f8e79e",
   "metadata": {},
   "outputs": [],
   "source": [
    "def run_python_pca(data, n_components=2):\n",
    "    \n",
    "    standardized = standardize(data)  # list of lists\n",
    "\n",
    "    cov = covariance_matrix(standardized)  # list of lists\n",
    "\n",
    "    eig_vals, eig_vecs = eigen_decompose(cov)  # NumPy\n",
    "\n",
    "    sorted_indices = np.argsort(eig_vals)[::-1]\n",
    "\n",
    "    top_vectors = eig_vecs[:, sorted_indices[:n_components]]  \n",
    "    top_vectors_py = top_vectors.T.tolist()  \n",
    "    \n",
    "    projected = project_data(standardized, top_vectors_py)\n",
    "    \n",
    "    return projected"
   ]
  },
  {
   "cell_type": "code",
   "execution_count": 35,
   "id": "2a2ffeea",
   "metadata": {},
   "outputs": [],
   "source": [
    "# compact version of PCA using NumPy (we did before above)\n",
    "def run_numpy_pca(X, n_components=2):\n",
    "    # Step 1: Standardize the data (Z-score normalization)\n",
    "    X = np.array(X)\n",
    "    X_mean = X.mean(axis=0)\n",
    "    X_std = X.std(axis=0)\n",
    "    X_std[X_std == 0] = 1  # Prevent division by zero\n",
    "    standardized = (X - X_mean) / X_std\n",
    "\n",
    "    # Step 2: Compute the covariance matrix\n",
    "    cov_matrix = np.cov(standardized, rowvar=False)\n",
    "\n",
    "    # Step 3: Eigen decomposition\n",
    "    eig_vals, eig_vecs = np.linalg.eigh(cov_matrix)\n",
    "\n",
    "    # Step 4: Sort eigenvalues and corresponding eigenvectors\n",
    "    sorted_indices = np.argsort(eig_vals)[::-1]\n",
    "    top_vectors = eig_vecs[:, sorted_indices[:n_components]]\n",
    "\n",
    "    # Step 5: Project the data onto top principal components\n",
    "    projected = standardized @ top_vectors\n",
    "\n",
    "    return projected\n"
   ]
  },
  {
   "cell_type": "code",
   "execution_count": 36,
   "id": "a8ae4292",
   "metadata": {},
   "outputs": [
    {
     "name": "stdout",
     "output_type": "stream",
     "text": [
      "Time: 0.0052 seconds\n",
      "Time: 0.0000 seconds\n"
     ]
    }
   ],
   "source": [
    "# Prepare input for both versions\n",
    "X_py = X_numeric.values.tolist()\n",
    "X_np = X_numeric.to_numpy()\n",
    "\n",
    "# Run PCA using pure Python implementation\n",
    "manual_result = time_it(lambda: run_python_pca(X_py))  # expects list of lists\n",
    "\n",
    "# Run PCA using NumPy implementation\n",
    "numpy_result = time_it(lambda: run_numpy_pca(X_np))  # expects NumPy array\n"
   ]
  },
  {
   "cell_type": "code",
   "execution_count": 39,
   "id": "3b7ebfcc",
   "metadata": {},
   "outputs": [
    {
     "name": "stdout",
     "output_type": "stream",
     "text": [
      "Do both methods give similar results? True\n"
     ]
    }
   ],
   "source": [
    "# Validate similarity of results using cosine similarit\n",
    "from sklearn.metrics.pairwise import cosine_similarity\n",
    "\n",
    "def are_projections_close(A, B, tol=0.4):\n",
    "    A, B = np.array(A), np.array(B)\n",
    "    sim = cosine_similarity(A, B)\n",
    "    avg_similarity = np.mean(np.abs(sim.diagonal()))\n",
    "    return avg_similarity >= 1 - tol\n",
    "\n",
    "print(\"Do both methods give similar results?\", are_projections_close(manual_result, numpy_result))\n"
   ]
  }
 ],
 "metadata": {
  "kernelspec": {
   "display_name": "Python 3",
   "language": "python",
   "name": "python3"
  },
  "language_info": {
   "codemirror_mode": {
    "name": "ipython",
    "version": 3
   },
   "file_extension": ".py",
   "mimetype": "text/x-python",
   "name": "python",
   "nbconvert_exporter": "python",
   "pygments_lexer": "ipython3",
   "version": "3.10.0"
  }
 },
 "nbformat": 4,
 "nbformat_minor": 5
}
