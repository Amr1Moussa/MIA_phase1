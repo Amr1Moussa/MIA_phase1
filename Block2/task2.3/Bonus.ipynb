{
 "cells": [
  {
   "cell_type": "markdown",
   "id": "7252cb59",
   "metadata": {},
   "source": [
    "### 🧠 Bonus Task: Matching Hassan with an F1 Team using FastText\n",
    "\n",
    "This task compares **Hassan’s traits** with those of top F1 teams (Red Bull, Ferrari, Mercedes) using **semantic similarity**.\n",
    "\n",
    "We use **FastText embeddings** to represent each trait as a dense vector.\n",
    "\n",
    "--- \n",
    "✅ **Why FastText?**\n",
    "It outperforms Word2Vec and GloVe in many cases — especially when:\n",
    "\n",
    "* Working with **short text** (like word lists), and\n",
    "* Handle OOV words, for later advanced tasks\n",
    "* We care about **subword structure** for tricky, closely related words (e.g., *discipline* vs *disciplined*).\n",
    "\n",
    "This helps capture deeper meaning and subtle differences that simple matching would miss.\n",
    "\n",
    "Using **cosine similarity**, we rank how well each team aligns with Hassan’s personality.\n"
   ]
  },
  {
   "cell_type": "markdown",
   "id": "9b24f074",
   "metadata": {},
   "source": [
    "### `imports`"
   ]
  },
  {
   "cell_type": "markdown",
   "id": "1e6ce9f5",
   "metadata": {},
   "source": [
    ">>> import fasttext.util\n",
    ">>> fasttext.util.download_model('en', if_exists='ignore')  # English\n",
    ">>> ft = fasttext.load_model('cc.en.300.bin')\n"
   ]
  },
  {
   "cell_type": "code",
   "execution_count": 1,
   "id": "49ea1070",
   "metadata": {},
   "outputs": [
    {
     "ename": "ModuleNotFoundError",
     "evalue": "No module named 'fasttext'",
     "output_type": "error",
     "traceback": [
      "\u001b[1;31m---------------------------------------------------------------------------\u001b[0m",
      "\u001b[1;31mModuleNotFoundError\u001b[0m                       Traceback (most recent call last)",
      "Cell \u001b[1;32mIn[1], line 1\u001b[0m\n\u001b[1;32m----> 1\u001b[0m \u001b[38;5;28;01mimport\u001b[39;00m\u001b[38;5;250m \u001b[39m\u001b[38;5;21;01mfasttext\u001b[39;00m\u001b[38;5;21;01m.\u001b[39;00m\u001b[38;5;21;01mutil\u001b[39;00m\n\u001b[0;32m      2\u001b[0m fasttext\u001b[38;5;241m.\u001b[39mutil\u001b[38;5;241m.\u001b[39mdownload_model(\u001b[38;5;124m'\u001b[39m\u001b[38;5;124men\u001b[39m\u001b[38;5;124m'\u001b[39m, if_exists\u001b[38;5;241m=\u001b[39m\u001b[38;5;124m'\u001b[39m\u001b[38;5;124mignore\u001b[39m\u001b[38;5;124m'\u001b[39m)  \u001b[38;5;66;03m# English\u001b[39;00m\n\u001b[0;32m      3\u001b[0m ft \u001b[38;5;241m=\u001b[39m fasttext\u001b[38;5;241m.\u001b[39mload_model(\u001b[38;5;124m'\u001b[39m\u001b[38;5;124mcc.en.300.bin\u001b[39m\u001b[38;5;124m'\u001b[39m)\n",
      "\u001b[1;31mModuleNotFoundError\u001b[0m: No module named 'fasttext'"
     ]
    }
   ],
   "source": [
    "import fasttext.util\n",
    "fasttext.util.download_model('en', if_exists='ignore')  # English\n",
    "ft = fasttext.load_model('cc.en.300.bin')"
   ]
  },
  {
   "cell_type": "code",
   "execution_count": null,
   "id": "6737d053",
   "metadata": {},
   "outputs": [],
   "source": []
  }
 ],
 "metadata": {
  "kernelspec": {
   "display_name": "Python 3",
   "language": "python",
   "name": "python3"
  },
  "language_info": {
   "codemirror_mode": {
    "name": "ipython",
    "version": 3
   },
   "file_extension": ".py",
   "mimetype": "text/x-python",
   "name": "python",
   "nbconvert_exporter": "python",
   "pygments_lexer": "ipython3",
   "version": "3.10.0"
  }
 },
 "nbformat": 4,
 "nbformat_minor": 5
}
