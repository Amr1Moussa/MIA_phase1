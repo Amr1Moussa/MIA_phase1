{
 "cells": [
  {
   "cell_type": "markdown",
   "id": "54e20e5b",
   "metadata": {},
   "source": [
    "### 🏎️ Task 2.3: Matching Hassan to the Right F1 Team\n",
    "\n",
    "We aim to find the best-fitting F1 team for **Hassan**, a promising driver, by comparing his driving traits to team philosophies.\n",
    "\n",
    "#### 🔍 Objective:\n",
    "\n",
    "* Quantify Hassan's compatibility with **Red Bull**, **Ferrari**, and **Mercedes**.\n",
    "* Use vector-based similarity and distance metrics.\n",
    "\n",
    "#### 📊 Methods Used:\n",
    "\n",
    "* **Cosine Similarity** – measures directional alignment.\n",
    "* **Euclidean Distance** – measures straight-line similarity.\n",
    "* **Manhattan Distance** – sums trait-by-trait differences.\n",
    "* **Pearson Correlation** – Measures linear correlation.\n",
    "* **Spearman Correlation** – Measures monotonic relationship. \n",
    "\n",
    "#### 🏁 Goal:\n",
    "\n",
    "* Recommend the team with the **highest statistical and cultural alignment** to Hassan’s profile."
   ]
  },
  {
   "cell_type": "markdown",
   "id": "1dba0aa8",
   "metadata": {},
   "source": [
    "### `imports`"
   ]
  },
  {
   "cell_type": "code",
   "execution_count": null,
   "id": "d933a61f",
   "metadata": {},
   "outputs": [],
   "source": [
    "import numpy as np\n",
    "from scipy.spatial.distance import cosine, euclidean, cityblock  # all are distances\n",
    "from scipy.stats import pearsonr, spearmanr  # correlation coefficients"
   ]
  },
  {
   "cell_type": "code",
   "execution_count": 4,
   "id": "811a3000",
   "metadata": {},
   "outputs": [],
   "source": [
    "# Hassan's profile\n",
    "hassan = np.array([9, 8, 7, 6, 7, 8, 6])"
   ]
  },
  {
   "cell_type": "code",
   "execution_count": null,
   "id": "dfdd38ab",
   "metadata": {},
   "outputs": [],
   "source": [
    "# Team profiles\n",
    "red_bull = np.array([10, 9, 6, 7, 6, 9, 5])\n",
    "ferrari  = np.array([9, 7, 6, 6, 7, 7, 5])\n",
    "mercedes = np.array([8, 6, 8, 9, 9, 5, 9])"
   ]
  },
  {
   "cell_type": "markdown",
   "id": "1e85c8a0",
   "metadata": {},
   "source": [
    "**`Cosine Similarity`**"
   ]
  },
  {
   "cell_type": "code",
   "execution_count": 6,
   "id": "267e8f38",
   "metadata": {},
   "outputs": [],
   "source": [
    "# define cosine similarity function\n",
    "def cosine_similarity(a, b): # scipy function returns cosine distance ( cosine distance = 1−cos(θ) ), lower is better\n",
    "    return 1 - cosine(a, b)  # as required is cosine similarity (higher is better)"
   ]
  },
  {
   "cell_type": "code",
   "execution_count": 7,
   "id": "81473f8d",
   "metadata": {},
   "outputs": [],
   "source": [
    "cosine_results = {\n",
    "    \"Red Bull\": cosine_similarity(hassan, red_bull),\n",
    "    \"Ferrari\": cosine_similarity(hassan, ferrari),\n",
    "    \"Mercedes\": cosine_similarity(hassan, mercedes)\n",
    "}"
   ]
  },
  {
   "cell_type": "code",
   "execution_count": 27,
   "id": "058da3ed",
   "metadata": {},
   "outputs": [
    {
     "data": {
      "text/plain": [
       "{'Red Bull': 0.9917790279239155,\n",
       " 'Ferrari': 0.9972562318087912,\n",
       " 'Mercedes': 0.9564218442002067}"
      ]
     },
     "execution_count": 27,
     "metadata": {},
     "output_type": "execute_result"
    }
   ],
   "source": [
    "cosine_results"
   ]
  },
  {
   "cell_type": "markdown",
   "id": "35610632",
   "metadata": {},
   "source": [
    "* **Explanation**: Measures the **angle** between two vectors. Values range **from -1** (opposite, theta=180) **to +1** (identical, theta=0).\n",
    "* **Result**: Ferrari **(0.9974)** has the highest similarity to Hassan, indicating strong alignment in direction of performance traits.\n",
    "* ✅ **Best Fit**: **Ferrari**"
   ]
  },
  {
   "cell_type": "markdown",
   "id": "e9ec9a5e",
   "metadata": {},
   "source": [
    "**`Euclidean Distance`**"
   ]
  },
  {
   "cell_type": "code",
   "execution_count": null,
   "id": "52ce6caa",
   "metadata": {},
   "outputs": [],
   "source": [
    "def euclidean_distance(a, b):  # any distance, lower is better\n",
    "    return euclidean(a, b)"
   ]
  },
  {
   "cell_type": "code",
   "execution_count": 24,
   "id": "b8e1bd85",
   "metadata": {},
   "outputs": [],
   "source": [
    "euclidean_results = {\n",
    "    \"Red Bull\": euclidean_distance(hassan, red_bull),\n",
    "    \"Ferrari\": euclidean_distance(hassan, ferrari),\n",
    "    \"Mercedes\": euclidean_distance(hassan, mercedes)\n",
    "}"
   ]
  },
  {
   "cell_type": "code",
   "execution_count": 26,
   "id": "6aa85f68",
   "metadata": {},
   "outputs": [
    {
     "data": {
      "text/plain": [
       "{'Red Bull': 2.6457513110645907, 'Ferrari': 2.0, 'Mercedes': 6.082762530298219}"
      ]
     },
     "execution_count": 26,
     "metadata": {},
     "output_type": "execute_result"
    }
   ],
   "source": [
    "euclidean_results"
   ]
  },
  {
   "cell_type": "markdown",
   "id": "af5bf6ea",
   "metadata": {},
   "source": [
    "* **Explanation**: Measures the **straight-line** distance between two vectors. Smaller distance → more similar.\n",
    "* **Result**: Ferrari **(2.0)** is closest to Hassan.\n",
    "* ✅ **Best Fit**: **Ferrari**"
   ]
  },
  {
   "cell_type": "markdown",
   "id": "cbab08d2",
   "metadata": {},
   "source": [
    "**`Manhattan Distance`**"
   ]
  },
  {
   "cell_type": "code",
   "execution_count": null,
   "id": "25b407e2",
   "metadata": {},
   "outputs": [],
   "source": [
    "def manhattan_distance(a, b):   # absolute distance, lower is better\n",
    "    return cityblock(a, b)"
   ]
  },
  {
   "cell_type": "code",
   "execution_count": 29,
   "id": "68d21ba8",
   "metadata": {},
   "outputs": [],
   "source": [
    "manhattan_results = {\n",
    "    \"Red Bull\": manhattan_distance(hassan, red_bull),\n",
    "    \"Ferrari\": manhattan_distance(hassan, ferrari),\n",
    "    \"Mercedes\": manhattan_distance(hassan, mercedes)\n",
    "}"
   ]
  },
  {
   "cell_type": "code",
   "execution_count": 30,
   "id": "278f8b0a",
   "metadata": {},
   "outputs": [
    {
     "data": {
      "text/plain": [
       "{'Red Bull': 7, 'Ferrari': 4, 'Mercedes': 15}"
      ]
     },
     "execution_count": 30,
     "metadata": {},
     "output_type": "execute_result"
    }
   ],
   "source": [
    "manhattan_results"
   ]
  },
  {
   "cell_type": "markdown",
   "id": "0fc55b1b",
   "metadata": {},
   "source": [
    "* **Explanation**: Measures the **sum of absolute differences** across all traits. Simpler but effective.\n",
    "* **Result**: Ferrari **(4)** again has the lowest distance.\n",
    "* ✅ **Best Fit**: **Ferrari**"
   ]
  },
  {
   "cell_type": "markdown",
   "id": "4ac25a77",
   "metadata": {},
   "source": [
    "**`Pearson Correlation`**"
   ]
  },
  {
   "cell_type": "code",
   "execution_count": 42,
   "id": "8ac5ca35",
   "metadata": {},
   "outputs": [],
   "source": [
    "def pearson_correlation(a, b):  # measures liner correlation, higher is better\n",
    "    return pearsonr(a, b)[0]   # returns ony correlation coefficient"
   ]
  },
  {
   "cell_type": "code",
   "execution_count": 43,
   "id": "1a86c11c",
   "metadata": {},
   "outputs": [],
   "source": [
    "pearson_results = {\n",
    "    \"Red Bull\": pearson_correlation(hassan, red_bull),\n",
    "    \"Ferrari\": pearson_correlation(hassan, ferrari),\n",
    "    \"Mercedes\": pearson_correlation(hassan, mercedes)\n",
    "}"
   ]
  },
  {
   "cell_type": "code",
   "execution_count": 44,
   "id": "30dd2596",
   "metadata": {},
   "outputs": [
    {
     "data": {
      "text/plain": [
       "{'Red Bull': 0.8773464777984028,\n",
       " 'Ferrari': 0.9046950831485676,\n",
       " 'Mercedes': -0.6004805767690768}"
      ]
     },
     "execution_count": 44,
     "metadata": {},
     "output_type": "execute_result"
    }
   ],
   "source": [
    "pearson_results"
   ]
  },
  {
   "cell_type": "markdown",
   "id": "a37acbcf",
   "metadata": {},
   "source": [
    "* **Explanation**: Measures **linear correlation**. Values close to 1 mean similar trend/pattern.\n",
    "* **Result**: Ferrari **(0.9047)** again shows the highest alignment.\n",
    "* ✅ **Best Fit**: **Ferrari**"
   ]
  },
  {
   "cell_type": "markdown",
   "id": "1ce1deeb",
   "metadata": {},
   "source": [
    "**`Spearman Correlation`**"
   ]
  },
  {
   "cell_type": "code",
   "execution_count": 36,
   "id": "a7c00716",
   "metadata": {},
   "outputs": [],
   "source": [
    "def spearman_correlation(a, b):  # measures monotonic relationship, higher is better\n",
    "    return spearmanr(a, b)[0]    # returns coefficient"
   ]
  },
  {
   "cell_type": "code",
   "execution_count": 37,
   "id": "d75e910d",
   "metadata": {},
   "outputs": [],
   "source": [
    "spearman_results = {\n",
    "    \"Red Bull\": spearman_correlation(hassan, red_bull),\n",
    "    \"Ferrari\": spearman_correlation(hassan, ferrari),\n",
    "    \"Mercedes\": spearman_correlation(hassan, mercedes)\n",
    "}"
   ]
  },
  {
   "cell_type": "code",
   "execution_count": 38,
   "id": "b97507a3",
   "metadata": {},
   "outputs": [
    {
     "data": {
      "text/plain": [
       "{'Red Bull': 0.8411582311380665,\n",
       " 'Ferrari': 0.9040133315325639,\n",
       " 'Mercedes': -0.7597558850114101}"
      ]
     },
     "execution_count": 38,
     "metadata": {},
     "output_type": "execute_result"
    }
   ],
   "source": [
    "spearman_results"
   ]
  },
  {
   "cell_type": "markdown",
   "id": "a18b3812",
   "metadata": {},
   "source": [
    "* **Explanation**: Measures **rank correlation**, assessing how well the relationship between two sets of traits can be described by a **monotonic trend** (not necessarily linear). It compares the **order** of values, not their magnitude.\n",
    "* **Result**: Ferrari **(0.9040)** showw the highest rank alignment with Hassan’s traits.\n",
    "* ✅ **Best Fit**: **Ferrari**"
   ]
  },
  {
   "cell_type": "markdown",
   "id": "b6634663",
   "metadata": {},
   "source": [
    "## 🏁 Final Recommendation\n",
    "\n",
    "Based on **all similarity metrics (Cosine, Euclidean, Manhattan, Pearson, Spearman)**, **Ferrari Racing** is the most compatible team for Hassan. Their aggressive and pace-oriented philosophy closely mirrors Hassan’s explosive driving style, adaptability, and high team engagement.\n",
    "\n",
    "> ✅ **Recommended Team: Ferrari Racing**"
   ]
  }
 ],
 "metadata": {
  "kernelspec": {
   "display_name": "Python 3",
   "language": "python",
   "name": "python3"
  },
  "language_info": {
   "codemirror_mode": {
    "name": "ipython",
    "version": 3
   },
   "file_extension": ".py",
   "mimetype": "text/x-python",
   "name": "python",
   "nbconvert_exporter": "python",
   "pygments_lexer": "ipython3",
   "version": "3.10.0"
  }
 },
 "nbformat": 4,
 "nbformat_minor": 5
}
