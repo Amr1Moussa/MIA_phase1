{
 "cells": [
  {
   "cell_type": "markdown",
   "id": "afa86608",
   "metadata": {},
   "source": [
    "### `imports`"
   ]
  },
  {
   "cell_type": "code",
   "execution_count": 1,
   "id": "e981036c",
   "metadata": {},
   "outputs": [],
   "source": [
    "import os\n",
    "import inspect\n",
    "import numpy as np\n",
    "import pandas as pd\n",
    "import matplotlib.pyplot as plt\n",
    "import seaborn as sns\n",
    "from sklearn.model_selection import train_test_split\n",
    "from sklearn.preprocessing import StandardScaler\n",
    "from utils.LogisticRegression import LogisticRegression\n",
    "from sklearn.preprocessing import PolynomialFeatures\n",
    "from sklearn.metrics import accuracy_score, f1_score, classification_report, confusion_matrix"
   ]
  },
  {
   "cell_type": "code",
   "execution_count": 2,
   "id": "57486069",
   "metadata": {},
   "outputs": [
    {
     "name": "stdout",
     "output_type": "stream",
     "text": [
      "c:\\Users\\laphouse\\Projects\\MIA\\MIA_phase1\\Block3\\task3.1\\utils\\LogisticRegression.py\n",
      "(learning_rate=0.01, iterations=1000, lambda_=0, regularization=None, no_of_batches=1, verbose=False)\n"
     ]
    }
   ],
   "source": [
    "# check on implemented version\n",
    "print(inspect.getfile(LogisticRegression))\n",
    "print(inspect.signature(LogisticRegression))"
   ]
  },
  {
   "cell_type": "markdown",
   "id": "fa2bebd8",
   "metadata": {},
   "source": [
    "### `load data`"
   ]
  },
  {
   "cell_type": "code",
   "execution_count": 3,
   "id": "d50fe2a4",
   "metadata": {},
   "outputs": [],
   "source": [
    "# Load the dataset\n",
    "train_df = pd.read_csv(os.path.join(os.getcwd(), \"data\", \"train.csv\"))   # Kaggle training data"
   ]
  },
  {
   "cell_type": "code",
   "execution_count": 4,
   "id": "6791533a",
   "metadata": {},
   "outputs": [
    {
     "data": {
      "text/html": [
       "<div>\n",
       "<style scoped>\n",
       "    .dataframe tbody tr th:only-of-type {\n",
       "        vertical-align: middle;\n",
       "    }\n",
       "\n",
       "    .dataframe tbody tr th {\n",
       "        vertical-align: top;\n",
       "    }\n",
       "\n",
       "    .dataframe thead th {\n",
       "        text-align: right;\n",
       "    }\n",
       "</style>\n",
       "<table border=\"1\" class=\"dataframe\">\n",
       "  <thead>\n",
       "    <tr style=\"text-align: right;\">\n",
       "      <th></th>\n",
       "      <th>message_id</th>\n",
       "      <th>num_links</th>\n",
       "      <th>num_words</th>\n",
       "      <th>has_offer</th>\n",
       "      <th>sender_score</th>\n",
       "      <th>all_caps</th>\n",
       "      <th>is_spam</th>\n",
       "    </tr>\n",
       "  </thead>\n",
       "  <tbody>\n",
       "    <tr>\n",
       "      <th>0</th>\n",
       "      <td>1</td>\n",
       "      <td>3</td>\n",
       "      <td>98</td>\n",
       "      <td>1</td>\n",
       "      <td>0.718607</td>\n",
       "      <td>0</td>\n",
       "      <td>0</td>\n",
       "    </tr>\n",
       "    <tr>\n",
       "      <th>1</th>\n",
       "      <td>2</td>\n",
       "      <td>0</td>\n",
       "      <td>170</td>\n",
       "      <td>0</td>\n",
       "      <td>0.698901</td>\n",
       "      <td>1</td>\n",
       "      <td>0</td>\n",
       "    </tr>\n",
       "    <tr>\n",
       "      <th>2</th>\n",
       "      <td>3</td>\n",
       "      <td>0</td>\n",
       "      <td>38</td>\n",
       "      <td>0</td>\n",
       "      <td>0.620466</td>\n",
       "      <td>0</td>\n",
       "      <td>0</td>\n",
       "    </tr>\n",
       "    <tr>\n",
       "      <th>3</th>\n",
       "      <td>4</td>\n",
       "      <td>0</td>\n",
       "      <td>116</td>\n",
       "      <td>0</td>\n",
       "      <td>0.701755</td>\n",
       "      <td>0</td>\n",
       "      <td>0</td>\n",
       "    </tr>\n",
       "    <tr>\n",
       "      <th>4</th>\n",
       "      <td>5</td>\n",
       "      <td>3</td>\n",
       "      <td>89</td>\n",
       "      <td>1</td>\n",
       "      <td>0.583621</td>\n",
       "      <td>1</td>\n",
       "      <td>1</td>\n",
       "    </tr>\n",
       "  </tbody>\n",
       "</table>\n",
       "</div>"
      ],
      "text/plain": [
       "   message_id  num_links  num_words  has_offer  sender_score  all_caps  \\\n",
       "0           1          3         98          1      0.718607         0   \n",
       "1           2          0        170          0      0.698901         1   \n",
       "2           3          0         38          0      0.620466         0   \n",
       "3           4          0        116          0      0.701755         0   \n",
       "4           5          3         89          1      0.583621         1   \n",
       "\n",
       "   is_spam  \n",
       "0        0  \n",
       "1        0  \n",
       "2        0  \n",
       "3        0  \n",
       "4        1  "
      ]
     },
     "execution_count": 4,
     "metadata": {},
     "output_type": "execute_result"
    }
   ],
   "source": [
    "train_df.head()"
   ]
  },
  {
   "cell_type": "code",
   "execution_count": 5,
   "id": "0ee53ad5",
   "metadata": {},
   "outputs": [
    {
     "name": "stdout",
     "output_type": "stream",
     "text": [
      "<class 'pandas.core.frame.DataFrame'>\n",
      "RangeIndex: 19100 entries, 0 to 19099\n",
      "Data columns (total 7 columns):\n",
      " #   Column        Non-Null Count  Dtype  \n",
      "---  ------        --------------  -----  \n",
      " 0   message_id    19100 non-null  int64  \n",
      " 1   num_links     19100 non-null  int64  \n",
      " 2   num_words     19100 non-null  int64  \n",
      " 3   has_offer     19100 non-null  int64  \n",
      " 4   sender_score  19100 non-null  float64\n",
      " 5   all_caps      19100 non-null  int64  \n",
      " 6   is_spam       19100 non-null  int64  \n",
      "dtypes: float64(1), int64(6)\n",
      "memory usage: 1.0 MB\n"
     ]
    }
   ],
   "source": [
    "# check datatypes\n",
    "train_df.info()"
   ]
  },
  {
   "cell_type": "markdown",
   "id": "582cd59c",
   "metadata": {},
   "source": [
    "### `EDA and data cleaning`"
   ]
  },
  {
   "cell_type": "code",
   "execution_count": 6,
   "id": "6c21d041",
   "metadata": {},
   "outputs": [
    {
     "data": {
      "text/plain": [
       "np.int64(0)"
      ]
     },
     "execution_count": 6,
     "metadata": {},
     "output_type": "execute_result"
    }
   ],
   "source": [
    "# check missing values\n",
    "train_df.isnull().sum().sum()"
   ]
  },
  {
   "cell_type": "code",
   "execution_count": 7,
   "id": "457dacd5",
   "metadata": {},
   "outputs": [
    {
     "data": {
      "text/html": [
       "<div>\n",
       "<style scoped>\n",
       "    .dataframe tbody tr th:only-of-type {\n",
       "        vertical-align: middle;\n",
       "    }\n",
       "\n",
       "    .dataframe tbody tr th {\n",
       "        vertical-align: top;\n",
       "    }\n",
       "\n",
       "    .dataframe thead th {\n",
       "        text-align: right;\n",
       "    }\n",
       "</style>\n",
       "<table border=\"1\" class=\"dataframe\">\n",
       "  <thead>\n",
       "    <tr style=\"text-align: right;\">\n",
       "      <th></th>\n",
       "      <th>count</th>\n",
       "      <th>mean</th>\n",
       "      <th>std</th>\n",
       "      <th>min</th>\n",
       "      <th>25%</th>\n",
       "      <th>50%</th>\n",
       "      <th>75%</th>\n",
       "      <th>max</th>\n",
       "    </tr>\n",
       "  </thead>\n",
       "  <tbody>\n",
       "    <tr>\n",
       "      <th>message_id</th>\n",
       "      <td>19100.0</td>\n",
       "      <td>9550.500000</td>\n",
       "      <td>5513.839406</td>\n",
       "      <td>1.0</td>\n",
       "      <td>4775.75000</td>\n",
       "      <td>9550.500000</td>\n",
       "      <td>14325.2500</td>\n",
       "      <td>19100.0</td>\n",
       "    </tr>\n",
       "    <tr>\n",
       "      <th>num_links</th>\n",
       "      <td>19100.0</td>\n",
       "      <td>1.498272</td>\n",
       "      <td>1.221115</td>\n",
       "      <td>0.0</td>\n",
       "      <td>1.00000</td>\n",
       "      <td>1.000000</td>\n",
       "      <td>2.0000</td>\n",
       "      <td>9.0</td>\n",
       "    </tr>\n",
       "    <tr>\n",
       "      <th>num_words</th>\n",
       "      <td>19100.0</td>\n",
       "      <td>109.651780</td>\n",
       "      <td>51.974463</td>\n",
       "      <td>20.0</td>\n",
       "      <td>65.00000</td>\n",
       "      <td>110.000000</td>\n",
       "      <td>155.0000</td>\n",
       "      <td>199.0</td>\n",
       "    </tr>\n",
       "    <tr>\n",
       "      <th>has_offer</th>\n",
       "      <td>19100.0</td>\n",
       "      <td>0.303298</td>\n",
       "      <td>0.459695</td>\n",
       "      <td>0.0</td>\n",
       "      <td>0.00000</td>\n",
       "      <td>0.000000</td>\n",
       "      <td>1.0000</td>\n",
       "      <td>1.0</td>\n",
       "    </tr>\n",
       "    <tr>\n",
       "      <th>sender_score</th>\n",
       "      <td>19100.0</td>\n",
       "      <td>0.694174</td>\n",
       "      <td>0.188285</td>\n",
       "      <td>0.0</td>\n",
       "      <td>0.56699</td>\n",
       "      <td>0.699204</td>\n",
       "      <td>0.8342</td>\n",
       "      <td>1.0</td>\n",
       "    </tr>\n",
       "    <tr>\n",
       "      <th>all_caps</th>\n",
       "      <td>19100.0</td>\n",
       "      <td>0.097853</td>\n",
       "      <td>0.297124</td>\n",
       "      <td>0.0</td>\n",
       "      <td>0.00000</td>\n",
       "      <td>0.000000</td>\n",
       "      <td>0.0000</td>\n",
       "      <td>1.0</td>\n",
       "    </tr>\n",
       "    <tr>\n",
       "      <th>is_spam</th>\n",
       "      <td>19100.0</td>\n",
       "      <td>0.091414</td>\n",
       "      <td>0.288204</td>\n",
       "      <td>0.0</td>\n",
       "      <td>0.00000</td>\n",
       "      <td>0.000000</td>\n",
       "      <td>0.0000</td>\n",
       "      <td>1.0</td>\n",
       "    </tr>\n",
       "  </tbody>\n",
       "</table>\n",
       "</div>"
      ],
      "text/plain": [
       "                count         mean          std   min         25%  \\\n",
       "message_id    19100.0  9550.500000  5513.839406   1.0  4775.75000   \n",
       "num_links     19100.0     1.498272     1.221115   0.0     1.00000   \n",
       "num_words     19100.0   109.651780    51.974463  20.0    65.00000   \n",
       "has_offer     19100.0     0.303298     0.459695   0.0     0.00000   \n",
       "sender_score  19100.0     0.694174     0.188285   0.0     0.56699   \n",
       "all_caps      19100.0     0.097853     0.297124   0.0     0.00000   \n",
       "is_spam       19100.0     0.091414     0.288204   0.0     0.00000   \n",
       "\n",
       "                      50%         75%      max  \n",
       "message_id    9550.500000  14325.2500  19100.0  \n",
       "num_links        1.000000      2.0000      9.0  \n",
       "num_words      110.000000    155.0000    199.0  \n",
       "has_offer        0.000000      1.0000      1.0  \n",
       "sender_score     0.699204      0.8342      1.0  \n",
       "all_caps         0.000000      0.0000      1.0  \n",
       "is_spam          0.000000      0.0000      1.0  "
      ]
     },
     "execution_count": 7,
     "metadata": {},
     "output_type": "execute_result"
    }
   ],
   "source": [
    "train_df.describe().T"
   ]
  },
  {
   "cell_type": "code",
   "execution_count": 8,
   "id": "fefdd4bc",
   "metadata": {},
   "outputs": [
    {
     "data": {
      "text/plain": [
       "Index(['message_id', 'num_links', 'num_words', 'has_offer', 'sender_score',\n",
       "       'all_caps', 'is_spam'],\n",
       "      dtype='object')"
      ]
     },
     "execution_count": 8,
     "metadata": {},
     "output_type": "execute_result"
    }
   ],
   "source": [
    "train_df.columns"
   ]
  },
  {
   "cell_type": "code",
   "execution_count": 9,
   "id": "16b93ed8",
   "metadata": {},
   "outputs": [],
   "source": [
    "# drop unnecessary columns\n",
    "train_df = train_df.drop(columns=['message_id'])"
   ]
  },
  {
   "cell_type": "code",
   "execution_count": 10,
   "id": "22dcc646",
   "metadata": {},
   "outputs": [
    {
     "data": {
      "image/png": "[encoded data removed]",
      "text/plain": [
       "<Figure size 600x400 with 1 Axes>"
      ]
     },
     "metadata": {},
     "output_type": "display_data"
    }
   ],
   "source": [
    "# check target balance\n",
    "counts = train_df['is_spam'].value_counts()\n",
    "\n",
    "# Bar plot\n",
    "plt.figure(figsize=(6, 4))\n",
    "sns.barplot(x=counts.index, y=counts.values)\n",
    "\n",
    "plt.title(\"Class Distribution of is_spam\")\n",
    "plt.xlabel(\"is_spam\")\n",
    "plt.ylabel(\"count\")\n",
    "plt.xticks([0, 1], labels=[\"Not Spam\", \"Spam\"])\n",
    "plt.show()"
   ]
  },
  {
   "cell_type": "code",
   "execution_count": 11,
   "id": "038b1ede",
   "metadata": {},
   "outputs": [
    {
     "data": {
      "text/plain": [
       "is_spam\n",
       "0    0.908586\n",
       "1    0.091414\n",
       "Name: proportion, dtype: float64"
      ]
     },
     "execution_count": 11,
     "metadata": {},
     "output_type": "execute_result"
    }
   ],
   "source": [
    "train_df['is_spam'].value_counts(normalize=True)"
   ]
  },
  {
   "cell_type": "markdown",
   "id": "ccdbd009",
   "metadata": {},
   "source": [
    "- may handle using smote later"
   ]
  },
  {
   "cell_type": "markdown",
   "id": "fbaca27c",
   "metadata": {},
   "source": [
    "**features distribution**"
   ]
  },
  {
   "cell_type": "code",
   "execution_count": 12,
   "id": "aa4606da",
   "metadata": {},
   "outputs": [
    {
     "data": {
      "image/png": "[encoded data removed]",
      "text/plain": [
       "<Figure size 800x400 with 1 Axes>"
      ]
     },
     "metadata": {},
     "output_type": "display_data"
    },
    {
     "data": {
      "image/png": "[encoded data removed]",
      "text/plain": [
       "<Figure size 800x400 with 1 Axes>"
      ]
     },
     "metadata": {},
     "output_type": "display_data"
    },
    {
     "data": {
      "image/png": "[encoded data removed]",
      "text/plain": [
       "<Figure size 800x400 with 1 Axes>"
      ]
     },
     "metadata": {},
     "output_type": "display_data"
    },
    {
     "data": {
      "image/png": "[encoded data removed]",
      "text/plain": [
       "<Figure size 800x400 with 1 Axes>"
      ]
     },
     "metadata": {},
     "output_type": "display_data"
    },
    {
     "data": {
      "image/png": "[encoded data removed]",
      "text/plain": [
       "<Figure size 800x400 with 1 Axes>"
      ]
     },
     "metadata": {},
     "output_type": "display_data"
    },
    {
     "data": {
      "image/png": "[encoded data removed]",
      "text/plain": [
       "<Figure size 800x400 with 1 Axes>"
      ]
     },
     "metadata": {},
     "output_type": "display_data"
    }
   ],
   "source": [
    "# List of features to visualize (numerical)\n",
    "num_features = train_df.select_dtypes(include=[np.number]).columns.tolist()\n",
    "\n",
    "# Plot distribution for each numerical feature\n",
    "for feature in num_features:\n",
    "    plt.figure(figsize=(8, 4))\n",
    "    sns.histplot(train_df[feature], kde=True, bins=30)\n",
    "    plt.title(f'Distribution of {feature}')\n",
    "    plt.xlabel(feature)\n",
    "    plt.ylabel('Frequency')\n",
    "    plt.show()"
   ]
  },
  {
   "cell_type": "code",
   "execution_count": 13,
   "id": "b2533a90",
   "metadata": {},
   "outputs": [
    {
     "data": {
      "text/plain": [
       "np.int64(379)"
      ]
     },
     "execution_count": 13,
     "metadata": {},
     "output_type": "execute_result"
    }
   ],
   "source": [
    "# chech for duplicates\n",
    "train_df.duplicated().sum()"
   ]
  },
  {
   "cell_type": "markdown",
   "id": "fca0f0a3",
   "metadata": {},
   "source": [
    "- duplicates must be checked after removing id column "
   ]
  },
  {
   "cell_type": "code",
   "execution_count": 14,
   "id": "919bb387",
   "metadata": {},
   "outputs": [
    {
     "data": {
      "text/plain": [
       "(19100, 6)"
      ]
     },
     "execution_count": 14,
     "metadata": {},
     "output_type": "execute_result"
    }
   ],
   "source": [
    "train_df.shape"
   ]
  },
  {
   "cell_type": "code",
   "execution_count": 15,
   "id": "09326742",
   "metadata": {},
   "outputs": [
    {
     "data": {
      "text/plain": [
       "(18721, 6)"
      ]
     },
     "execution_count": 15,
     "metadata": {},
     "output_type": "execute_result"
    }
   ],
   "source": [
    "# drop duplicates\n",
    "train_df = train_df.drop_duplicates() \n",
    "train_df.shape  "
   ]
  },
  {
   "cell_type": "code",
   "execution_count": 16,
   "id": "f2152ee4",
   "metadata": {},
   "outputs": [
    {
     "name": "stdout",
     "output_type": "stream",
     "text": [
      "num_links: 1223 outliers\n",
      "num_words: 0 outliers\n",
      "sender_score: 67 outliers\n"
     ]
    }
   ],
   "source": [
    "# Select numerical columns excluding target and categorical\n",
    "numeric_cols = ['num_links', 'num_words', 'sender_score']\n",
    "numeric_df = train_df[numeric_cols]\n",
    "\n",
    "# IQR-based outlier detection\n",
    "for col in numeric_cols:\n",
    "    Q1 = numeric_df[col].quantile(0.25)\n",
    "    Q3 = numeric_df[col].quantile(0.75)\n",
    "    IQR = Q3 - Q1\n",
    "    lower_bound = Q1 - 1.5 * IQR\n",
    "    upper_bound = Q3 + 1.5 * IQR\n",
    "\n",
    "    outliers = numeric_df[(numeric_df[col] < lower_bound) | (numeric_df[col] > upper_bound)]\n",
    "    print(f\"{col}: {len(outliers)} outliers\")\n"
   ]
  },
  {
   "cell_type": "markdown",
   "id": "651d207c",
   "metadata": {},
   "source": [
    "**outliers handling**"
   ]
  },
  {
   "cell_type": "code",
   "execution_count": 17,
   "id": "422e151f",
   "metadata": {},
   "outputs": [
    {
     "name": "stdout",
     "output_type": "stream",
     "text": [
      "Z-score outliers per column: {'num_links': np.int64(357), 'num_words': np.int64(0)}\n"
     ]
    }
   ],
   "source": [
    "def detect_outliers_zscore(df, columns, threshold=2.5):\n",
    "    outlier_counts = {}\n",
    "    for col in columns:\n",
    "        z_scores = np.abs((df[col] - df[col].mean()) / df[col].std())\n",
    "        outlier_counts[col] = (z_scores > threshold).sum()\n",
    "    return outlier_counts\n",
    "\n",
    "# Columns to check\n",
    "cols_to_check = ['num_links', 'num_words']\n",
    "\n",
    "# Just detect (don’t overwrite train_df)\n",
    "outlier_counts = detect_outliers_zscore(train_df, cols_to_check)\n",
    "print(\"Z-score outliers per column:\", outlier_counts)"
   ]
  },
  {
   "cell_type": "code",
   "execution_count": 18,
   "id": "407e27d2",
   "metadata": {},
   "outputs": [
    {
     "name": "stdout",
     "output_type": "stream",
     "text": [
      "Removed 357 outliers. Train set shape: (18364, 6)\n"
     ]
    }
   ],
   "source": [
    "def remove_outliers_zscore(df, columns, threshold=2.5):\n",
    "    outlier_mask = pd.Series(False, index=df.index)  # initialize mask\n",
    "    for col in columns:\n",
    "        z_scores = np.abs((df[col] - df[col].mean()) / df[col].std())\n",
    "        outlier_mask |= (z_scores > threshold)  # mark outliers\n",
    "    df_clean = df.loc[~outlier_mask].reset_index(drop=True)\n",
    "    return df_clean, outlier_mask.sum()\n",
    "\n",
    "\n",
    "# Remove outliers\n",
    "train_df, removed_count = remove_outliers_zscore(train_df, cols_to_check, threshold=2.5)\n",
    "print(f\"Removed {removed_count} outliers. Train set shape: {train_df.shape}\")\n"
   ]
  },
  {
   "cell_type": "code",
   "execution_count": 19,
   "id": "7e52730e",
   "metadata": {},
   "outputs": [
    {
     "data": {
      "text/plain": [
       "Index(['num_links', 'num_words', 'has_offer', 'sender_score', 'all_caps',\n",
       "       'is_spam'],\n",
       "      dtype='object')"
      ]
     },
     "execution_count": 19,
     "metadata": {},
     "output_type": "execute_result"
    }
   ],
   "source": [
    "train_df.columns"
   ]
  },
  {
   "cell_type": "code",
   "execution_count": 20,
   "id": "c47d3289",
   "metadata": {},
   "outputs": [
    {
     "data": {
      "text/plain": [
       "(18364, 6)"
      ]
     },
     "execution_count": 20,
     "metadata": {},
     "output_type": "execute_result"
    }
   ],
   "source": [
    "train_df.shape"
   ]
  },
  {
   "cell_type": "markdown",
   "id": "5408aa64",
   "metadata": {},
   "source": [
    "### `Feature Engineering`"
   ]
  },
  {
   "cell_type": "code",
   "execution_count": 21,
   "id": "91244c91",
   "metadata": {},
   "outputs": [],
   "source": [
    "# Binary flag: very short message\n",
    "train_df[\"short_message\"] = (train_df[\"num_words\"] < 5).astype(int)\n",
    "# Log transform slightly skewed feature\n",
    "train_df['sender_score'] = np.sqrt(train_df['sender_score'])"
   ]
  },
  {
   "cell_type": "code",
   "execution_count": 22,
   "id": "6d4e9328",
   "metadata": {},
   "outputs": [],
   "source": [
    "train_df['links_x_caps'] = train_df['num_links'] * train_df['all_caps']"
   ]
  },
  {
   "cell_type": "code",
   "execution_count": 23,
   "id": "d69623bf",
   "metadata": {},
   "outputs": [],
   "source": [
    "def add_features(df):\n",
    "    if \"has_offer\" in df.columns and \"num_links\" in df.columns:\n",
    "        df[\"offer_many_links\"] = ((df[\"has_offer\"] == 1) & (df[\"num_links\"] > 2)).astype(int)\n",
    "    if \"all_caps\" in df.columns and \"num_links\" in df.columns:\n",
    "        df[\"caps_with_links\"] = ((df[\"all_caps\"] == 1) & (df[\"num_links\"] > 1)).astype(int)\n",
    "    if \"num_links\" in df.columns and \"num_words\" in df.columns:\n",
    "        df[\"links_per_word\"] = df[\"num_links\"] / (df[\"num_words\"] + 1e-6)\n",
    "\n",
    "    for col in [\"num_words\", \"num_links\"]:\n",
    "        if col in df.columns:\n",
    "            df[f\"log_{col}\"] = np.log1p(df[col])\n",
    "    return df\n",
    "\n",
    "#train_df = add_features(train_df)   # was a trial"
   ]
  },
  {
   "cell_type": "markdown",
   "id": "b4e1382b",
   "metadata": {},
   "source": [
    "### `prepare data`"
   ]
  },
  {
   "cell_type": "code",
   "execution_count": 24,
   "id": "867c8511",
   "metadata": {},
   "outputs": [],
   "source": [
    "X = train_df.drop('is_spam', axis=1).values\n",
    "y = train_df['is_spam'].values"
   ]
  },
  {
   "cell_type": "code",
   "execution_count": 25,
   "id": "04d48462",
   "metadata": {},
   "outputs": [
    {
     "data": {
      "text/plain": [
       "18364"
      ]
     },
     "execution_count": 25,
     "metadata": {},
     "output_type": "execute_result"
    }
   ],
   "source": [
    "len(X)"
   ]
  },
  {
   "cell_type": "code",
   "execution_count": 26,
   "id": "dc2a8dc1",
   "metadata": {},
   "outputs": [
    {
     "data": {
      "text/html": [
       "<div>\n",
       "<style scoped>\n",
       "    .dataframe tbody tr th:only-of-type {\n",
       "        vertical-align: middle;\n",
       "    }\n",
       "\n",
       "    .dataframe tbody tr th {\n",
       "        vertical-align: top;\n",
       "    }\n",
       "\n",
       "    .dataframe thead th {\n",
       "        text-align: right;\n",
       "    }\n",
       "</style>\n",
       "<table border=\"1\" class=\"dataframe\">\n",
       "  <thead>\n",
       "    <tr style=\"text-align: right;\">\n",
       "      <th></th>\n",
       "      <th>num_links</th>\n",
       "      <th>num_words</th>\n",
       "      <th>has_offer</th>\n",
       "      <th>sender_score</th>\n",
       "      <th>all_caps</th>\n",
       "      <th>is_spam</th>\n",
       "      <th>short_message</th>\n",
       "      <th>links_x_caps</th>\n",
       "    </tr>\n",
       "  </thead>\n",
       "  <tbody>\n",
       "    <tr>\n",
       "      <th>0</th>\n",
       "      <td>3</td>\n",
       "      <td>98</td>\n",
       "      <td>1</td>\n",
       "      <td>0.847707</td>\n",
       "      <td>0</td>\n",
       "      <td>0</td>\n",
       "      <td>0</td>\n",
       "      <td>0</td>\n",
       "    </tr>\n",
       "    <tr>\n",
       "      <th>1</th>\n",
       "      <td>0</td>\n",
       "      <td>170</td>\n",
       "      <td>0</td>\n",
       "      <td>0.836003</td>\n",
       "      <td>1</td>\n",
       "      <td>0</td>\n",
       "      <td>0</td>\n",
       "      <td>0</td>\n",
       "    </tr>\n",
       "    <tr>\n",
       "      <th>2</th>\n",
       "      <td>0</td>\n",
       "      <td>38</td>\n",
       "      <td>0</td>\n",
       "      <td>0.787696</td>\n",
       "      <td>0</td>\n",
       "      <td>0</td>\n",
       "      <td>0</td>\n",
       "      <td>0</td>\n",
       "    </tr>\n",
       "    <tr>\n",
       "      <th>3</th>\n",
       "      <td>0</td>\n",
       "      <td>116</td>\n",
       "      <td>0</td>\n",
       "      <td>0.837708</td>\n",
       "      <td>0</td>\n",
       "      <td>0</td>\n",
       "      <td>0</td>\n",
       "      <td>0</td>\n",
       "    </tr>\n",
       "    <tr>\n",
       "      <th>4</th>\n",
       "      <td>3</td>\n",
       "      <td>89</td>\n",
       "      <td>1</td>\n",
       "      <td>0.763951</td>\n",
       "      <td>1</td>\n",
       "      <td>1</td>\n",
       "      <td>0</td>\n",
       "      <td>3</td>\n",
       "    </tr>\n",
       "  </tbody>\n",
       "</table>\n",
       "</div>"
      ],
      "text/plain": [
       "   num_links  num_words  has_offer  sender_score  all_caps  is_spam  \\\n",
       "0          3         98          1      0.847707         0        0   \n",
       "1          0        170          0      0.836003         1        0   \n",
       "2          0         38          0      0.787696         0        0   \n",
       "3          0        116          0      0.837708         0        0   \n",
       "4          3         89          1      0.763951         1        1   \n",
       "\n",
       "   short_message  links_x_caps  \n",
       "0              0             0  \n",
       "1              0             0  \n",
       "2              0             0  \n",
       "3              0             0  \n",
       "4              0             3  "
      ]
     },
     "execution_count": 26,
     "metadata": {},
     "output_type": "execute_result"
    }
   ],
   "source": [
    "train_df.head()"
   ]
  },
  {
   "cell_type": "markdown",
   "id": "f1faeaa2",
   "metadata": {},
   "source": [
    "**introduce non-linearity**"
   ]
  },
  {
   "cell_type": "code",
   "execution_count": 27,
   "id": "4474a42c",
   "metadata": {},
   "outputs": [],
   "source": [
    "poly = PolynomialFeatures(degree=4, include_bias=False)\n",
    "X_poly = poly.fit_transform(X)"
   ]
  },
  {
   "cell_type": "code",
   "execution_count": 28,
   "id": "f5a10fce",
   "metadata": {},
   "outputs": [],
   "source": [
    "X_train, X_val, y_train, y_val = train_test_split(X_poly, y, test_size=0.2, random_state=42, stratify=y)"
   ]
  },
  {
   "cell_type": "markdown",
   "id": "d1e2154e",
   "metadata": {},
   "source": [
    "### `preprocessing`"
   ]
  },
  {
   "cell_type": "code",
   "execution_count": 29,
   "id": "199f95a1",
   "metadata": {},
   "outputs": [],
   "source": [
    "scaler = StandardScaler()\n",
    "X_train = scaler.fit_transform(X_train)\n",
    "X_val = scaler.transform(X_val)"
   ]
  },
  {
   "cell_type": "code",
   "execution_count": 30,
   "id": "73dd172c",
   "metadata": {},
   "outputs": [
    {
     "data": {
      "text/plain": [
       "(14691, 329)"
      ]
     },
     "execution_count": 30,
     "metadata": {},
     "output_type": "execute_result"
    }
   ],
   "source": [
    "X_train.shape"
   ]
  },
  {
   "cell_type": "markdown",
   "id": "ba261026",
   "metadata": {},
   "source": [
    "### `train logestic regression`"
   ]
  },
  {
   "cell_type": "code",
   "execution_count": null,
   "id": "4c37d71e",
   "metadata": {},
   "outputs": [
    {
     "name": "stdout",
     "output_type": "stream",
     "text": [
      "Epoch 0/2000 - Loss: 0.607565\n",
      "Epoch 100/2000 - Loss: 0.198461\n",
      "Epoch 200/2000 - Loss: 0.160422\n",
      "Epoch 300/2000 - Loss: 0.148333\n",
      "Epoch 400/2000 - Loss: 0.142499\n",
      "Epoch 500/2000 - Loss: 0.139031\n",
      "Epoch 600/2000 - Loss: 0.136696\n",
      "Epoch 700/2000 - Loss: 0.134989\n",
      "Epoch 800/2000 - Loss: 0.133665\n",
      "Epoch 900/2000 - Loss: 0.132593\n",
      "Epoch 1000/2000 - Loss: 0.131697\n",
      "Epoch 1100/2000 - Loss: 0.130930\n",
      "Epoch 1200/2000 - Loss: 0.130262\n",
      "Epoch 1300/2000 - Loss: 0.129670\n",
      "Epoch 1400/2000 - Loss: 0.129141\n",
      "Epoch 1500/2000 - Loss: 0.128662\n",
      "Epoch 1600/2000 - Loss: 0.128226\n",
      "Epoch 1700/2000 - Loss: 0.127826\n",
      "Epoch 1800/2000 - Loss: 0.127457\n",
      "Epoch 1900/2000 - Loss: 0.127114\n"
     ]
    }
   ],
   "source": [
    "model = LogisticRegression(\n",
    "    learning_rate=0.1,\n",
    "    iterations=2000,\n",
    "    lambda_=0.01,\n",
    "    regularization=\"l1\",  # options: l1, l2, or None\n",
    "    no_of_batches=1,      # batch, mini-batch, or SGD (use len(X_train))\n",
    "    verbose=True\n",
    ")\n",
    "\n",
    "model.fit(X_train, y_train)"
   ]
  },
  {
   "cell_type": "code",
   "execution_count": 32,
   "id": "c1fa431b",
   "metadata": {},
   "outputs": [
    {
     "name": "stdout",
     "output_type": "stream",
     "text": [
      "Validation Accuracy: 0.9539885652055541\n",
      "Validation F1 Score: 0.7206611570247934\n"
     ]
    }
   ],
   "source": [
    "y_pred = model.predict(X_val, threshold=0.5)  # Adjust threshold as needed\n",
    "print(\"Validation Accuracy:\", accuracy_score(y_val, y_pred))\n",
    "print(\"Validation F1 Score:\", f1_score(y_val, y_pred))"
   ]
  },
  {
   "cell_type": "code",
   "execution_count": 33,
   "id": "bb431b44",
   "metadata": {},
   "outputs": [
    {
     "name": "stdout",
     "output_type": "stream",
     "text": [
      "\n",
      "Confusion Matrix:\n",
      " [[3286   60]\n",
      " [ 109  218]]\n",
      "\n",
      "Classification Report:\n",
      "               precision    recall  f1-score   support\n",
      "\n",
      "           0       0.97      0.98      0.97      3346\n",
      "           1       0.78      0.67      0.72       327\n",
      "\n",
      "    accuracy                           0.95      3673\n",
      "   macro avg       0.88      0.82      0.85      3673\n",
      "weighted avg       0.95      0.95      0.95      3673\n",
      "\n"
     ]
    }
   ],
   "source": [
    "print(\"\\nConfusion Matrix:\\n\", confusion_matrix(y_val, y_pred))\n",
    "print(\"\\nClassification Report:\\n\", classification_report(y_val, y_pred))"
   ]
  },
  {
   "cell_type": "markdown",
   "id": "bb46036b",
   "metadata": {},
   "source": [
    "---"
   ]
  },
  {
   "cell_type": "markdown",
   "id": "e29b421b",
   "metadata": {},
   "source": [
    "### `train on entire train.csv`"
   ]
  },
  {
   "cell_type": "code",
   "execution_count": 34,
   "id": "c4837cc2",
   "metadata": {},
   "outputs": [
    {
     "data": {
      "text/plain": [
       "(18364, 8)"
      ]
     },
     "execution_count": 34,
     "metadata": {},
     "output_type": "execute_result"
    }
   ],
   "source": [
    "train_df.shape"
   ]
  },
  {
   "cell_type": "code",
   "execution_count": null,
   "id": "6d360c5d",
   "metadata": {},
   "outputs": [
    {
     "name": "stdout",
     "output_type": "stream",
     "text": [
      "Epoch 0/2000 - Loss: 0.595020\n",
      "Epoch 100/2000 - Loss: 0.201204\n",
      "Epoch 200/2000 - Loss: 0.161501\n",
      "Epoch 300/2000 - Loss: 0.147704\n",
      "Epoch 400/2000 - Loss: 0.142465\n",
      "Epoch 500/2000 - Loss: 0.138499\n",
      "Epoch 600/2000 - Loss: 0.135825\n",
      "Epoch 700/2000 - Loss: 0.133838\n",
      "Epoch 800/2000 - Loss: 0.132276\n",
      "Epoch 900/2000 - Loss: 0.130997\n",
      "Epoch 1000/2000 - Loss: 0.129921\n",
      "Epoch 1100/2000 - Loss: 0.128995\n",
      "Epoch 1200/2000 - Loss: 0.128186\n",
      "Epoch 1300/2000 - Loss: 0.127469\n",
      "Epoch 1400/2000 - Loss: 0.126827\n",
      "Epoch 1500/2000 - Loss: 0.126246\n",
      "Epoch 1600/2000 - Loss: 0.125717\n",
      "Epoch 1700/2000 - Loss: 0.125233\n",
      "Epoch 1800/2000 - Loss: 0.124785\n",
      "Epoch 1900/2000 - Loss: 0.124371\n"
     ]
    }
   ],
   "source": [
    "X = train_df.drop('is_spam', axis=1).values\n",
    "y = train_df['is_spam'].values\n",
    "\n",
    "poly = PolynomialFeatures(degree=4, include_bias=False)\n",
    "X_poly = poly.fit_transform(X)\n",
    "\n",
    "final_scaler = StandardScaler()    # new scaler to avoid data leakage\n",
    "X_scaled = final_scaler.fit_transform(X_poly)\n",
    "\n",
    "final_model = LogisticRegression(\n",
    "    learning_rate=0.1,\n",
    "    iterations=2000,\n",
    "    lambda_=0.01,\n",
    "    regularization=\"l1\",  \n",
    "    no_of_batches=1,    \n",
    "    verbose=True\n",
    ")\n",
    "\n",
    "final_model.fit(X_scaled, y)"
   ]
  },
  {
   "cell_type": "markdown",
   "id": "fdd998cf",
   "metadata": {},
   "source": [
    "### `submission`"
   ]
  },
  {
   "cell_type": "code",
   "execution_count": 37,
   "id": "81d40037",
   "metadata": {},
   "outputs": [
    {
     "name": "stdout",
     "output_type": "stream",
     "text": [
      "Submission file saved to c:\\Users\\laphouse\\Projects\\MIA\\MIA_phase1\\Block3\\task3.1\\output\\submission.csv\n"
     ]
    }
   ],
   "source": [
    "test_df = pd.read_csv(os.path.join(os.getcwd(), \"data\", \"test.csv\"))     # Kaggle test data (for submission)\n",
    "test_df = test_df.drop(columns=['message_id'])\n",
    "\n",
    "\n",
    "\n",
    "# Binary flag: very short message\n",
    "test_df[\"short_message\"] = (test_df[\"num_words\"] < 5).astype(int)\n",
    "# Log transform slightly skewed feature\n",
    "test_df['sender_score'] = np.sqrt(test_df['sender_score'])\n",
    "test_df['links_x_caps'] = test_df['num_links'] * test_df['all_caps']\n",
    "\n",
    "#test_df = add_features(test_df)\n",
    "X_test_final = test_df.values\n",
    "\n",
    "X_test_final = poly.transform(X_test_final)\n",
    "X_test_final = final_scaler.transform(X_test_final)\n",
    "test_pred_proba = final_model.predict_proba(X_test_final)\n",
    "\n",
    "submission_df = pd.DataFrame({\n",
    "    \"message_id\": pd.read_csv(os.path.join(os.getcwd(), \"data\", \"test.csv\"))[\"message_id\"],\n",
    "    \"is_spam\": test_pred_proba\n",
    "})\n",
    "\n",
    "submission_path = os.path.join(os.getcwd(), \"output\", \"submission.csv\")\n",
    "submission_df.to_csv(submission_path, index=False)\n",
    "print(f\"Submission file saved to {submission_path}\")"
   ]
  }
 ],
 "metadata": {
  "kernelspec": {
   "display_name": "Python 3",
   "language": "python",
   "name": "python3"
  },
  "language_info": {
   "codemirror_mode": {
    "name": "ipython",
    "version": 3
   },
   "file_extension": ".py",
   "mimetype": "text/x-python",
   "name": "python",
   "nbconvert_exporter": "python",
   "pygments_lexer": "ipython3",
   "version": "3.10.0"
  }
 },
 "nbformat": 4,
 "nbformat_minor": 5
}
